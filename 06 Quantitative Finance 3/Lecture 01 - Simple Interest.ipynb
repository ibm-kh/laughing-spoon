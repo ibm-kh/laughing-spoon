{
 "cells": [
  {
   "cell_type": "code",
   "execution_count": 1,
   "metadata": {},
   "outputs": [
    {
     "name": "stderr",
     "output_type": "stream",
     "text": [
      "C:\\Users\\Bright\\anaconda3\\lib\\site-packages\\pandas_datareader\\compat\\__init__.py:7: FutureWarning: pandas.util.testing is deprecated. Use the functions in the public API at pandas.testing instead.\n",
      "  from pandas.util.testing import assert_frame_equal\n"
     ]
    }
   ],
   "source": [
    "import numpy as np\n",
    "import pandas as pd\n",
    "from pandas_datareader import data as wb\n",
    "import matplotlib.pyplot as plt\n",
    "%matplotlib inline"
   ]
  },
  {
   "cell_type": "markdown",
   "metadata": {},
   "source": [
    "#####  Extrating data off yahoo"
   ]
  },
  {
   "cell_type": "code",
   "execution_count": 2,
   "metadata": {},
   "outputs": [],
   "source": [
    "PG = wb.DataReader('PG', data_source='yahoo', start='1995-1-1')"
   ]
  },
  {
   "cell_type": "code",
   "execution_count": 3,
   "metadata": {},
   "outputs": [
    {
     "data": {
      "text/plain": [
       "pandas.core.frame.DataFrame"
      ]
     },
     "execution_count": 3,
     "metadata": {},
     "output_type": "execute_result"
    }
   ],
   "source": [
    "type(PG)"
   ]
  },
  {
   "cell_type": "markdown",
   "metadata": {},
   "source": [
    "##### ploting the adjusted close"
   ]
  },
  {
   "cell_type": "code",
   "execution_count": 4,
   "metadata": {},
   "outputs": [
    {
     "data": {
      "text/html": [
       "<div>\n",
       "<style scoped>\n",
       "    .dataframe tbody tr th:only-of-type {\n",
       "        vertical-align: middle;\n",
       "    }\n",
       "\n",
       "    .dataframe tbody tr th {\n",
       "        vertical-align: top;\n",
       "    }\n",
       "\n",
       "    .dataframe thead th {\n",
       "        text-align: right;\n",
       "    }\n",
       "</style>\n",
       "<table border=\"1\" class=\"dataframe\">\n",
       "  <thead>\n",
       "    <tr style=\"text-align: right;\">\n",
       "      <th></th>\n",
       "      <th>High</th>\n",
       "      <th>Low</th>\n",
       "      <th>Open</th>\n",
       "      <th>Close</th>\n",
       "      <th>Volume</th>\n",
       "      <th>Adj Close</th>\n",
       "    </tr>\n",
       "    <tr>\n",
       "      <th>Date</th>\n",
       "      <th></th>\n",
       "      <th></th>\n",
       "      <th></th>\n",
       "      <th></th>\n",
       "      <th></th>\n",
       "      <th></th>\n",
       "    </tr>\n",
       "  </thead>\n",
       "  <tbody>\n",
       "    <tr>\n",
       "      <th>1995-01-03</th>\n",
       "      <td>15.62500</td>\n",
       "      <td>15.43750</td>\n",
       "      <td>15.46875</td>\n",
       "      <td>15.59375</td>\n",
       "      <td>3318400.0</td>\n",
       "      <td>8.215732</td>\n",
       "    </tr>\n",
       "    <tr>\n",
       "      <th>1995-01-04</th>\n",
       "      <td>15.65625</td>\n",
       "      <td>15.31250</td>\n",
       "      <td>15.53125</td>\n",
       "      <td>15.46875</td>\n",
       "      <td>2218800.0</td>\n",
       "      <td>8.149876</td>\n",
       "    </tr>\n",
       "    <tr>\n",
       "      <th>1995-01-05</th>\n",
       "      <td>15.43750</td>\n",
       "      <td>15.21875</td>\n",
       "      <td>15.37500</td>\n",
       "      <td>15.25000</td>\n",
       "      <td>2319600.0</td>\n",
       "      <td>8.034625</td>\n",
       "    </tr>\n",
       "    <tr>\n",
       "      <th>1995-01-06</th>\n",
       "      <td>15.40625</td>\n",
       "      <td>15.15625</td>\n",
       "      <td>15.15625</td>\n",
       "      <td>15.28125</td>\n",
       "      <td>3438000.0</td>\n",
       "      <td>8.051086</td>\n",
       "    </tr>\n",
       "    <tr>\n",
       "      <th>1995-01-09</th>\n",
       "      <td>15.40625</td>\n",
       "      <td>15.18750</td>\n",
       "      <td>15.34375</td>\n",
       "      <td>15.21875</td>\n",
       "      <td>1795200.0</td>\n",
       "      <td>8.018162</td>\n",
       "    </tr>\n",
       "    <tr>\n",
       "      <th>1995-01-10</th>\n",
       "      <td>15.43750</td>\n",
       "      <td>15.18750</td>\n",
       "      <td>15.28125</td>\n",
       "      <td>15.40625</td>\n",
       "      <td>4364000.0</td>\n",
       "      <td>8.116948</td>\n",
       "    </tr>\n",
       "    <tr>\n",
       "      <th>1995-01-11</th>\n",
       "      <td>15.59375</td>\n",
       "      <td>15.37500</td>\n",
       "      <td>15.59375</td>\n",
       "      <td>15.37500</td>\n",
       "      <td>3738400.0</td>\n",
       "      <td>8.100482</td>\n",
       "    </tr>\n",
       "    <tr>\n",
       "      <th>1995-01-12</th>\n",
       "      <td>15.53125</td>\n",
       "      <td>15.31250</td>\n",
       "      <td>15.37500</td>\n",
       "      <td>15.53125</td>\n",
       "      <td>3307600.0</td>\n",
       "      <td>8.182804</td>\n",
       "    </tr>\n",
       "    <tr>\n",
       "      <th>1995-01-13</th>\n",
       "      <td>15.84375</td>\n",
       "      <td>15.53125</td>\n",
       "      <td>15.59375</td>\n",
       "      <td>15.62500</td>\n",
       "      <td>3992800.0</td>\n",
       "      <td>8.278837</td>\n",
       "    </tr>\n",
       "    <tr>\n",
       "      <th>1995-01-16</th>\n",
       "      <td>15.96875</td>\n",
       "      <td>15.75000</td>\n",
       "      <td>15.90625</td>\n",
       "      <td>15.75000</td>\n",
       "      <td>3677200.0</td>\n",
       "      <td>8.345070</td>\n",
       "    </tr>\n",
       "  </tbody>\n",
       "</table>\n",
       "</div>"
      ],
      "text/plain": [
       "                High       Low      Open     Close     Volume  Adj Close\n",
       "Date                                                                    \n",
       "1995-01-03  15.62500  15.43750  15.46875  15.59375  3318400.0   8.215732\n",
       "1995-01-04  15.65625  15.31250  15.53125  15.46875  2218800.0   8.149876\n",
       "1995-01-05  15.43750  15.21875  15.37500  15.25000  2319600.0   8.034625\n",
       "1995-01-06  15.40625  15.15625  15.15625  15.28125  3438000.0   8.051086\n",
       "1995-01-09  15.40625  15.18750  15.34375  15.21875  1795200.0   8.018162\n",
       "1995-01-10  15.43750  15.18750  15.28125  15.40625  4364000.0   8.116948\n",
       "1995-01-11  15.59375  15.37500  15.59375  15.37500  3738400.0   8.100482\n",
       "1995-01-12  15.53125  15.31250  15.37500  15.53125  3307600.0   8.182804\n",
       "1995-01-13  15.84375  15.53125  15.59375  15.62500  3992800.0   8.278837\n",
       "1995-01-16  15.96875  15.75000  15.90625  15.75000  3677200.0   8.345070"
      ]
     },
     "execution_count": 4,
     "metadata": {},
     "output_type": "execute_result"
    }
   ],
   "source": [
    "PG.head(10)"
   ]
  },
  {
   "cell_type": "code",
   "execution_count": 25,
   "metadata": {},
   "outputs": [
    {
     "data": {
      "image/png": "[encoded data removed]",
      "text/plain": [
       "<Figure size 1152x432 with 1 Axes>"
      ]
     },
     "metadata": {
      "needs_background": "light"
     },
     "output_type": "display_data"
    }
   ],
   "source": [
    "plt.figure(figsize=(16, 6))\n",
    "plt.plot(PG['Adj Close'])\n",
    "plt.show()"
   ]
  },
  {
   "cell_type": "markdown",
   "metadata": {},
   "source": [
    "###### Calculate and add new column titled \"Simple Returns "
   ]
  },
  {
   "cell_type": "code",
   "execution_count": 6,
   "metadata": {},
   "outputs": [
    {
     "data": {
      "text/html": [
       "<div>\n",
       "<style scoped>\n",
       "    .dataframe tbody tr th:only-of-type {\n",
       "        vertical-align: middle;\n",
       "    }\n",
       "\n",
       "    .dataframe tbody tr th {\n",
       "        vertical-align: top;\n",
       "    }\n",
       "\n",
       "    .dataframe thead th {\n",
       "        text-align: right;\n",
       "    }\n",
       "</style>\n",
       "<table border=\"1\" class=\"dataframe\">\n",
       "  <thead>\n",
       "    <tr style=\"text-align: right;\">\n",
       "      <th></th>\n",
       "      <th>High</th>\n",
       "      <th>Low</th>\n",
       "      <th>Open</th>\n",
       "      <th>Close</th>\n",
       "      <th>Volume</th>\n",
       "      <th>Adj Close</th>\n",
       "    </tr>\n",
       "    <tr>\n",
       "      <th>Date</th>\n",
       "      <th></th>\n",
       "      <th></th>\n",
       "      <th></th>\n",
       "      <th></th>\n",
       "      <th></th>\n",
       "      <th></th>\n",
       "    </tr>\n",
       "  </thead>\n",
       "  <tbody>\n",
       "    <tr>\n",
       "      <th>1995-01-03</th>\n",
       "      <td>15.625000</td>\n",
       "      <td>15.437500</td>\n",
       "      <td>15.468750</td>\n",
       "      <td>15.593750</td>\n",
       "      <td>3318400.0</td>\n",
       "      <td>8.215732</td>\n",
       "    </tr>\n",
       "    <tr>\n",
       "      <th>1995-01-04</th>\n",
       "      <td>15.656250</td>\n",
       "      <td>15.312500</td>\n",
       "      <td>15.531250</td>\n",
       "      <td>15.468750</td>\n",
       "      <td>2218800.0</td>\n",
       "      <td>8.149876</td>\n",
       "    </tr>\n",
       "    <tr>\n",
       "      <th>1995-01-05</th>\n",
       "      <td>15.437500</td>\n",
       "      <td>15.218750</td>\n",
       "      <td>15.375000</td>\n",
       "      <td>15.250000</td>\n",
       "      <td>2319600.0</td>\n",
       "      <td>8.034625</td>\n",
       "    </tr>\n",
       "    <tr>\n",
       "      <th>1995-01-06</th>\n",
       "      <td>15.406250</td>\n",
       "      <td>15.156250</td>\n",
       "      <td>15.156250</td>\n",
       "      <td>15.281250</td>\n",
       "      <td>3438000.0</td>\n",
       "      <td>8.051086</td>\n",
       "    </tr>\n",
       "    <tr>\n",
       "      <th>1995-01-09</th>\n",
       "      <td>15.406250</td>\n",
       "      <td>15.187500</td>\n",
       "      <td>15.343750</td>\n",
       "      <td>15.218750</td>\n",
       "      <td>1795200.0</td>\n",
       "      <td>8.018162</td>\n",
       "    </tr>\n",
       "    <tr>\n",
       "      <th>...</th>\n",
       "      <td>...</td>\n",
       "      <td>...</td>\n",
       "      <td>...</td>\n",
       "      <td>...</td>\n",
       "      <td>...</td>\n",
       "      <td>...</td>\n",
       "    </tr>\n",
       "    <tr>\n",
       "      <th>2020-10-23</th>\n",
       "      <td>142.880005</td>\n",
       "      <td>141.759995</td>\n",
       "      <td>141.759995</td>\n",
       "      <td>142.380005</td>\n",
       "      <td>4278100.0</td>\n",
       "      <td>142.380005</td>\n",
       "    </tr>\n",
       "    <tr>\n",
       "      <th>2020-10-26</th>\n",
       "      <td>142.050003</td>\n",
       "      <td>140.009995</td>\n",
       "      <td>141.500000</td>\n",
       "      <td>141.300003</td>\n",
       "      <td>5315500.0</td>\n",
       "      <td>141.300003</td>\n",
       "    </tr>\n",
       "    <tr>\n",
       "      <th>2020-10-27</th>\n",
       "      <td>143.339996</td>\n",
       "      <td>141.649994</td>\n",
       "      <td>141.940002</td>\n",
       "      <td>142.360001</td>\n",
       "      <td>6806700.0</td>\n",
       "      <td>142.360001</td>\n",
       "    </tr>\n",
       "    <tr>\n",
       "      <th>2020-10-28</th>\n",
       "      <td>140.940002</td>\n",
       "      <td>137.309998</td>\n",
       "      <td>140.449997</td>\n",
       "      <td>137.660004</td>\n",
       "      <td>8192200.0</td>\n",
       "      <td>137.660004</td>\n",
       "    </tr>\n",
       "    <tr>\n",
       "      <th>2020-10-29</th>\n",
       "      <td>139.089996</td>\n",
       "      <td>135.800003</td>\n",
       "      <td>137.350006</td>\n",
       "      <td>137.570007</td>\n",
       "      <td>5475200.0</td>\n",
       "      <td>137.570007</td>\n",
       "    </tr>\n",
       "  </tbody>\n",
       "</table>\n",
       "<p>6504 rows × 6 columns</p>\n",
       "</div>"
      ],
      "text/plain": [
       "                  High         Low        Open       Close     Volume  \\\n",
       "Date                                                                    \n",
       "1995-01-03   15.625000   15.437500   15.468750   15.593750  3318400.0   \n",
       "1995-01-04   15.656250   15.312500   15.531250   15.468750  2218800.0   \n",
       "1995-01-05   15.437500   15.218750   15.375000   15.250000  2319600.0   \n",
       "1995-01-06   15.406250   15.156250   15.156250   15.281250  3438000.0   \n",
       "1995-01-09   15.406250   15.187500   15.343750   15.218750  1795200.0   \n",
       "...                ...         ...         ...         ...        ...   \n",
       "2020-10-23  142.880005  141.759995  141.759995  142.380005  4278100.0   \n",
       "2020-10-26  142.050003  140.009995  141.500000  141.300003  5315500.0   \n",
       "2020-10-27  143.339996  141.649994  141.940002  142.360001  6806700.0   \n",
       "2020-10-28  140.940002  137.309998  140.449997  137.660004  8192200.0   \n",
       "2020-10-29  139.089996  135.800003  137.350006  137.570007  5475200.0   \n",
       "\n",
       "             Adj Close  \n",
       "Date                    \n",
       "1995-01-03    8.215732  \n",
       "1995-01-04    8.149876  \n",
       "1995-01-05    8.034625  \n",
       "1995-01-06    8.051086  \n",
       "1995-01-09    8.018162  \n",
       "...                ...  \n",
       "2020-10-23  142.380005  \n",
       "2020-10-26  141.300003  \n",
       "2020-10-27  142.360001  \n",
       "2020-10-28  137.660004  \n",
       "2020-10-29  137.570007  \n",
       "\n",
       "[6504 rows x 6 columns]"
      ]
     },
     "execution_count": 6,
     "metadata": {},
     "output_type": "execute_result"
    }
   ],
   "source": [
    "PG"
   ]
  },
  {
   "cell_type": "code",
   "execution_count": 7,
   "metadata": {},
   "outputs": [],
   "source": [
    "PG['Simple Returns'] = (PG['Adj Close'] / PG['Adj Close'].shift(1)) - 1    # the .shit(1) funtion tells python to fetch the data from the previous row"
   ]
  },
  {
   "cell_type": "code",
   "execution_count": 8,
   "metadata": {},
   "outputs": [],
   "source": [
    "x = pd.DataFrame(PG['Adj Close'])"
   ]
  },
  {
   "cell_type": "code",
   "execution_count": 9,
   "metadata": {},
   "outputs": [
    {
     "data": {
      "text/html": [
       "<div>\n",
       "<style scoped>\n",
       "    .dataframe tbody tr th:only-of-type {\n",
       "        vertical-align: middle;\n",
       "    }\n",
       "\n",
       "    .dataframe tbody tr th {\n",
       "        vertical-align: top;\n",
       "    }\n",
       "\n",
       "    .dataframe thead th {\n",
       "        text-align: right;\n",
       "    }\n",
       "</style>\n",
       "<table border=\"1\" class=\"dataframe\">\n",
       "  <thead>\n",
       "    <tr style=\"text-align: right;\">\n",
       "      <th></th>\n",
       "      <th>Adj Close</th>\n",
       "    </tr>\n",
       "    <tr>\n",
       "      <th>Date</th>\n",
       "      <th></th>\n",
       "    </tr>\n",
       "  </thead>\n",
       "  <tbody>\n",
       "    <tr>\n",
       "      <th>1995-01-03</th>\n",
       "      <td>8.215732</td>\n",
       "    </tr>\n",
       "    <tr>\n",
       "      <th>1995-01-04</th>\n",
       "      <td>8.149876</td>\n",
       "    </tr>\n",
       "    <tr>\n",
       "      <th>1995-01-05</th>\n",
       "      <td>8.034625</td>\n",
       "    </tr>\n",
       "    <tr>\n",
       "      <th>1995-01-06</th>\n",
       "      <td>8.051086</td>\n",
       "    </tr>\n",
       "    <tr>\n",
       "      <th>1995-01-09</th>\n",
       "      <td>8.018162</td>\n",
       "    </tr>\n",
       "    <tr>\n",
       "      <th>...</th>\n",
       "      <td>...</td>\n",
       "    </tr>\n",
       "    <tr>\n",
       "      <th>2020-10-23</th>\n",
       "      <td>142.380005</td>\n",
       "    </tr>\n",
       "    <tr>\n",
       "      <th>2020-10-26</th>\n",
       "      <td>141.300003</td>\n",
       "    </tr>\n",
       "    <tr>\n",
       "      <th>2020-10-27</th>\n",
       "      <td>142.360001</td>\n",
       "    </tr>\n",
       "    <tr>\n",
       "      <th>2020-10-28</th>\n",
       "      <td>137.660004</td>\n",
       "    </tr>\n",
       "    <tr>\n",
       "      <th>2020-10-29</th>\n",
       "      <td>137.570007</td>\n",
       "    </tr>\n",
       "  </tbody>\n",
       "</table>\n",
       "<p>6504 rows × 1 columns</p>\n",
       "</div>"
      ],
      "text/plain": [
       "             Adj Close\n",
       "Date                  \n",
       "1995-01-03    8.215732\n",
       "1995-01-04    8.149876\n",
       "1995-01-05    8.034625\n",
       "1995-01-06    8.051086\n",
       "1995-01-09    8.018162\n",
       "...                ...\n",
       "2020-10-23  142.380005\n",
       "2020-10-26  141.300003\n",
       "2020-10-27  142.360001\n",
       "2020-10-28  137.660004\n",
       "2020-10-29  137.570007\n",
       "\n",
       "[6504 rows x 1 columns]"
      ]
     },
     "execution_count": 9,
     "metadata": {},
     "output_type": "execute_result"
    }
   ],
   "source": [
    "x"
   ]
  },
  {
   "cell_type": "code",
   "execution_count": 10,
   "metadata": {},
   "outputs": [
    {
     "data": {
      "text/plain": [
       "Adj Close    15.880013\n",
       "dtype: float64"
      ]
     },
     "execution_count": 10,
     "metadata": {},
     "output_type": "execute_result"
    }
   ],
   "source": [
    "(x.iloc[-1] / x.iloc[1]) - 1"
   ]
  },
  {
   "cell_type": "code",
   "execution_count": 11,
   "metadata": {
    "scrolled": false
   },
   "outputs": [
    {
     "data": {
      "text/plain": [
       "Adj Close    8.149876\n",
       "Name: 1995-01-04 00:00:00, dtype: float64"
      ]
     },
     "execution_count": 11,
     "metadata": {},
     "output_type": "execute_result"
    }
   ],
   "source": [
    "x.iloc[1]"
   ]
  },
  {
   "cell_type": "code",
   "execution_count": 12,
   "metadata": {},
   "outputs": [
    {
     "data": {
      "text/plain": [
       "Adj Close    137.570007\n",
       "Name: 2020-10-29 00:00:00, dtype: float64"
      ]
     },
     "execution_count": 12,
     "metadata": {},
     "output_type": "execute_result"
    }
   ],
   "source": [
    "x.iloc[-1]"
   ]
  },
  {
   "cell_type": "code",
   "execution_count": 13,
   "metadata": {},
   "outputs": [
    {
     "name": "stdout",
     "output_type": "stream",
     "text": [
      "                  High         Low        Open       Close     Volume  \\\n",
      "Date                                                                    \n",
      "1995-01-03   15.625000   15.437500   15.468750   15.593750  3318400.0   \n",
      "1995-01-04   15.656250   15.312500   15.531250   15.468750  2218800.0   \n",
      "1995-01-05   15.437500   15.218750   15.375000   15.250000  2319600.0   \n",
      "1995-01-06   15.406250   15.156250   15.156250   15.281250  3438000.0   \n",
      "1995-01-09   15.406250   15.187500   15.343750   15.218750  1795200.0   \n",
      "...                ...         ...         ...         ...        ...   \n",
      "2020-10-23  142.880005  141.759995  141.759995  142.380005  4278100.0   \n",
      "2020-10-26  142.050003  140.009995  141.500000  141.300003  5315500.0   \n",
      "2020-10-27  143.339996  141.649994  141.940002  142.360001  6806700.0   \n",
      "2020-10-28  140.940002  137.309998  140.449997  137.660004  8192200.0   \n",
      "2020-10-29  139.089996  135.800003  137.350006  137.570007  5475200.0   \n",
      "\n",
      "             Adj Close  Simple Returns  \n",
      "Date                                    \n",
      "1995-01-03    8.215732             NaN  \n",
      "1995-01-04    8.149876       -0.008016  \n",
      "1995-01-05    8.034625       -0.014141  \n",
      "1995-01-06    8.051086        0.002049  \n",
      "1995-01-09    8.018162       -0.004089  \n",
      "...                ...             ...  \n",
      "2020-10-23  142.380005        0.006575  \n",
      "2020-10-26  141.300003       -0.007585  \n",
      "2020-10-27  142.360001        0.007502  \n",
      "2020-10-28  137.660004       -0.033015  \n",
      "2020-10-29  137.570007       -0.000654  \n",
      "\n",
      "[6504 rows x 7 columns]\n"
     ]
    }
   ],
   "source": [
    "print(PG)"
   ]
  },
  {
   "cell_type": "code",
   "execution_count": 14,
   "metadata": {},
   "outputs": [
    {
     "data": {
      "text/plain": [
       "pandas.core.frame.DataFrame"
      ]
     },
     "execution_count": 14,
     "metadata": {},
     "output_type": "execute_result"
    }
   ],
   "source": [
    "type(PG)"
   ]
  },
  {
   "cell_type": "code",
   "execution_count": 15,
   "metadata": {},
   "outputs": [
    {
     "data": {
      "text/html": [
       "<div>\n",
       "<style scoped>\n",
       "    .dataframe tbody tr th:only-of-type {\n",
       "        vertical-align: middle;\n",
       "    }\n",
       "\n",
       "    .dataframe tbody tr th {\n",
       "        vertical-align: top;\n",
       "    }\n",
       "\n",
       "    .dataframe thead th {\n",
       "        text-align: right;\n",
       "    }\n",
       "</style>\n",
       "<table border=\"1\" class=\"dataframe\">\n",
       "  <thead>\n",
       "    <tr style=\"text-align: right;\">\n",
       "      <th></th>\n",
       "      <th>High</th>\n",
       "      <th>Low</th>\n",
       "      <th>Open</th>\n",
       "      <th>Close</th>\n",
       "      <th>Volume</th>\n",
       "      <th>Adj Close</th>\n",
       "      <th>Simple Returns</th>\n",
       "    </tr>\n",
       "    <tr>\n",
       "      <th>Date</th>\n",
       "      <th></th>\n",
       "      <th></th>\n",
       "      <th></th>\n",
       "      <th></th>\n",
       "      <th></th>\n",
       "      <th></th>\n",
       "      <th></th>\n",
       "    </tr>\n",
       "  </thead>\n",
       "  <tbody>\n",
       "    <tr>\n",
       "      <th>1995-01-03</th>\n",
       "      <td>15.625000</td>\n",
       "      <td>15.437500</td>\n",
       "      <td>15.468750</td>\n",
       "      <td>15.593750</td>\n",
       "      <td>3318400.0</td>\n",
       "      <td>8.215732</td>\n",
       "      <td>NaN</td>\n",
       "    </tr>\n",
       "    <tr>\n",
       "      <th>1995-01-04</th>\n",
       "      <td>15.656250</td>\n",
       "      <td>15.312500</td>\n",
       "      <td>15.531250</td>\n",
       "      <td>15.468750</td>\n",
       "      <td>2218800.0</td>\n",
       "      <td>8.149876</td>\n",
       "      <td>-0.008016</td>\n",
       "    </tr>\n",
       "    <tr>\n",
       "      <th>1995-01-05</th>\n",
       "      <td>15.437500</td>\n",
       "      <td>15.218750</td>\n",
       "      <td>15.375000</td>\n",
       "      <td>15.250000</td>\n",
       "      <td>2319600.0</td>\n",
       "      <td>8.034625</td>\n",
       "      <td>-0.014141</td>\n",
       "    </tr>\n",
       "    <tr>\n",
       "      <th>1995-01-06</th>\n",
       "      <td>15.406250</td>\n",
       "      <td>15.156250</td>\n",
       "      <td>15.156250</td>\n",
       "      <td>15.281250</td>\n",
       "      <td>3438000.0</td>\n",
       "      <td>8.051086</td>\n",
       "      <td>0.002049</td>\n",
       "    </tr>\n",
       "    <tr>\n",
       "      <th>1995-01-09</th>\n",
       "      <td>15.406250</td>\n",
       "      <td>15.187500</td>\n",
       "      <td>15.343750</td>\n",
       "      <td>15.218750</td>\n",
       "      <td>1795200.0</td>\n",
       "      <td>8.018162</td>\n",
       "      <td>-0.004089</td>\n",
       "    </tr>\n",
       "    <tr>\n",
       "      <th>...</th>\n",
       "      <td>...</td>\n",
       "      <td>...</td>\n",
       "      <td>...</td>\n",
       "      <td>...</td>\n",
       "      <td>...</td>\n",
       "      <td>...</td>\n",
       "      <td>...</td>\n",
       "    </tr>\n",
       "    <tr>\n",
       "      <th>2020-10-23</th>\n",
       "      <td>142.880005</td>\n",
       "      <td>141.759995</td>\n",
       "      <td>141.759995</td>\n",
       "      <td>142.380005</td>\n",
       "      <td>4278100.0</td>\n",
       "      <td>142.380005</td>\n",
       "      <td>0.006575</td>\n",
       "    </tr>\n",
       "    <tr>\n",
       "      <th>2020-10-26</th>\n",
       "      <td>142.050003</td>\n",
       "      <td>140.009995</td>\n",
       "      <td>141.500000</td>\n",
       "      <td>141.300003</td>\n",
       "      <td>5315500.0</td>\n",
       "      <td>141.300003</td>\n",
       "      <td>-0.007585</td>\n",
       "    </tr>\n",
       "    <tr>\n",
       "      <th>2020-10-27</th>\n",
       "      <td>143.339996</td>\n",
       "      <td>141.649994</td>\n",
       "      <td>141.940002</td>\n",
       "      <td>142.360001</td>\n",
       "      <td>6806700.0</td>\n",
       "      <td>142.360001</td>\n",
       "      <td>0.007502</td>\n",
       "    </tr>\n",
       "    <tr>\n",
       "      <th>2020-10-28</th>\n",
       "      <td>140.940002</td>\n",
       "      <td>137.309998</td>\n",
       "      <td>140.449997</td>\n",
       "      <td>137.660004</td>\n",
       "      <td>8192200.0</td>\n",
       "      <td>137.660004</td>\n",
       "      <td>-0.033015</td>\n",
       "    </tr>\n",
       "    <tr>\n",
       "      <th>2020-10-29</th>\n",
       "      <td>139.089996</td>\n",
       "      <td>135.800003</td>\n",
       "      <td>137.350006</td>\n",
       "      <td>137.570007</td>\n",
       "      <td>5475200.0</td>\n",
       "      <td>137.570007</td>\n",
       "      <td>-0.000654</td>\n",
       "    </tr>\n",
       "  </tbody>\n",
       "</table>\n",
       "<p>6504 rows × 7 columns</p>\n",
       "</div>"
      ],
      "text/plain": [
       "                  High         Low        Open       Close     Volume  \\\n",
       "Date                                                                    \n",
       "1995-01-03   15.625000   15.437500   15.468750   15.593750  3318400.0   \n",
       "1995-01-04   15.656250   15.312500   15.531250   15.468750  2218800.0   \n",
       "1995-01-05   15.437500   15.218750   15.375000   15.250000  2319600.0   \n",
       "1995-01-06   15.406250   15.156250   15.156250   15.281250  3438000.0   \n",
       "1995-01-09   15.406250   15.187500   15.343750   15.218750  1795200.0   \n",
       "...                ...         ...         ...         ...        ...   \n",
       "2020-10-23  142.880005  141.759995  141.759995  142.380005  4278100.0   \n",
       "2020-10-26  142.050003  140.009995  141.500000  141.300003  5315500.0   \n",
       "2020-10-27  143.339996  141.649994  141.940002  142.360001  6806700.0   \n",
       "2020-10-28  140.940002  137.309998  140.449997  137.660004  8192200.0   \n",
       "2020-10-29  139.089996  135.800003  137.350006  137.570007  5475200.0   \n",
       "\n",
       "             Adj Close  Simple Returns  \n",
       "Date                                    \n",
       "1995-01-03    8.215732             NaN  \n",
       "1995-01-04    8.149876       -0.008016  \n",
       "1995-01-05    8.034625       -0.014141  \n",
       "1995-01-06    8.051086        0.002049  \n",
       "1995-01-09    8.018162       -0.004089  \n",
       "...                ...             ...  \n",
       "2020-10-23  142.380005        0.006575  \n",
       "2020-10-26  141.300003       -0.007585  \n",
       "2020-10-27  142.360001        0.007502  \n",
       "2020-10-28  137.660004       -0.033015  \n",
       "2020-10-29  137.570007       -0.000654  \n",
       "\n",
       "[6504 rows x 7 columns]"
      ]
     },
     "execution_count": 15,
     "metadata": {},
     "output_type": "execute_result"
    }
   ],
   "source": [
    "PG"
   ]
  },
  {
   "cell_type": "markdown",
   "metadata": {},
   "source": [
    "##### Calculate and add new column titled log returns"
   ]
  },
  {
   "cell_type": "code",
   "execution_count": 16,
   "metadata": {},
   "outputs": [],
   "source": [
    "PG['log returns'] = np.log(PG['Adj Close'] / PG['Adj Close'].shift(1))"
   ]
  },
  {
   "cell_type": "code",
   "execution_count": 17,
   "metadata": {},
   "outputs": [
    {
     "data": {
      "text/html": [
       "<div>\n",
       "<style scoped>\n",
       "    .dataframe tbody tr th:only-of-type {\n",
       "        vertical-align: middle;\n",
       "    }\n",
       "\n",
       "    .dataframe tbody tr th {\n",
       "        vertical-align: top;\n",
       "    }\n",
       "\n",
       "    .dataframe thead th {\n",
       "        text-align: right;\n",
       "    }\n",
       "</style>\n",
       "<table border=\"1\" class=\"dataframe\">\n",
       "  <thead>\n",
       "    <tr style=\"text-align: right;\">\n",
       "      <th></th>\n",
       "      <th>High</th>\n",
       "      <th>Low</th>\n",
       "      <th>Open</th>\n",
       "      <th>Close</th>\n",
       "      <th>Volume</th>\n",
       "      <th>Adj Close</th>\n",
       "      <th>Simple Returns</th>\n",
       "      <th>log returns</th>\n",
       "    </tr>\n",
       "    <tr>\n",
       "      <th>Date</th>\n",
       "      <th></th>\n",
       "      <th></th>\n",
       "      <th></th>\n",
       "      <th></th>\n",
       "      <th></th>\n",
       "      <th></th>\n",
       "      <th></th>\n",
       "      <th></th>\n",
       "    </tr>\n",
       "  </thead>\n",
       "  <tbody>\n",
       "    <tr>\n",
       "      <th>1995-01-03</th>\n",
       "      <td>15.625000</td>\n",
       "      <td>15.437500</td>\n",
       "      <td>15.468750</td>\n",
       "      <td>15.593750</td>\n",
       "      <td>3318400.0</td>\n",
       "      <td>8.215732</td>\n",
       "      <td>NaN</td>\n",
       "      <td>NaN</td>\n",
       "    </tr>\n",
       "    <tr>\n",
       "      <th>1995-01-04</th>\n",
       "      <td>15.656250</td>\n",
       "      <td>15.312500</td>\n",
       "      <td>15.531250</td>\n",
       "      <td>15.468750</td>\n",
       "      <td>2218800.0</td>\n",
       "      <td>8.149876</td>\n",
       "      <td>-0.008016</td>\n",
       "      <td>-0.008048</td>\n",
       "    </tr>\n",
       "    <tr>\n",
       "      <th>1995-01-05</th>\n",
       "      <td>15.437500</td>\n",
       "      <td>15.218750</td>\n",
       "      <td>15.375000</td>\n",
       "      <td>15.250000</td>\n",
       "      <td>2319600.0</td>\n",
       "      <td>8.034625</td>\n",
       "      <td>-0.014141</td>\n",
       "      <td>-0.014242</td>\n",
       "    </tr>\n",
       "    <tr>\n",
       "      <th>1995-01-06</th>\n",
       "      <td>15.406250</td>\n",
       "      <td>15.156250</td>\n",
       "      <td>15.156250</td>\n",
       "      <td>15.281250</td>\n",
       "      <td>3438000.0</td>\n",
       "      <td>8.051086</td>\n",
       "      <td>0.002049</td>\n",
       "      <td>0.002047</td>\n",
       "    </tr>\n",
       "    <tr>\n",
       "      <th>1995-01-09</th>\n",
       "      <td>15.406250</td>\n",
       "      <td>15.187500</td>\n",
       "      <td>15.343750</td>\n",
       "      <td>15.218750</td>\n",
       "      <td>1795200.0</td>\n",
       "      <td>8.018162</td>\n",
       "      <td>-0.004089</td>\n",
       "      <td>-0.004098</td>\n",
       "    </tr>\n",
       "    <tr>\n",
       "      <th>...</th>\n",
       "      <td>...</td>\n",
       "      <td>...</td>\n",
       "      <td>...</td>\n",
       "      <td>...</td>\n",
       "      <td>...</td>\n",
       "      <td>...</td>\n",
       "      <td>...</td>\n",
       "      <td>...</td>\n",
       "    </tr>\n",
       "    <tr>\n",
       "      <th>2020-10-23</th>\n",
       "      <td>142.880005</td>\n",
       "      <td>141.759995</td>\n",
       "      <td>141.759995</td>\n",
       "      <td>142.380005</td>\n",
       "      <td>4278100.0</td>\n",
       "      <td>142.380005</td>\n",
       "      <td>0.006575</td>\n",
       "      <td>0.006553</td>\n",
       "    </tr>\n",
       "    <tr>\n",
       "      <th>2020-10-26</th>\n",
       "      <td>142.050003</td>\n",
       "      <td>140.009995</td>\n",
       "      <td>141.500000</td>\n",
       "      <td>141.300003</td>\n",
       "      <td>5315500.0</td>\n",
       "      <td>141.300003</td>\n",
       "      <td>-0.007585</td>\n",
       "      <td>-0.007614</td>\n",
       "    </tr>\n",
       "    <tr>\n",
       "      <th>2020-10-27</th>\n",
       "      <td>143.339996</td>\n",
       "      <td>141.649994</td>\n",
       "      <td>141.940002</td>\n",
       "      <td>142.360001</td>\n",
       "      <td>6806700.0</td>\n",
       "      <td>142.360001</td>\n",
       "      <td>0.007502</td>\n",
       "      <td>0.007474</td>\n",
       "    </tr>\n",
       "    <tr>\n",
       "      <th>2020-10-28</th>\n",
       "      <td>140.940002</td>\n",
       "      <td>137.309998</td>\n",
       "      <td>140.449997</td>\n",
       "      <td>137.660004</td>\n",
       "      <td>8192200.0</td>\n",
       "      <td>137.660004</td>\n",
       "      <td>-0.033015</td>\n",
       "      <td>-0.033572</td>\n",
       "    </tr>\n",
       "    <tr>\n",
       "      <th>2020-10-29</th>\n",
       "      <td>139.089996</td>\n",
       "      <td>135.800003</td>\n",
       "      <td>137.350006</td>\n",
       "      <td>137.570007</td>\n",
       "      <td>5475200.0</td>\n",
       "      <td>137.570007</td>\n",
       "      <td>-0.000654</td>\n",
       "      <td>-0.000654</td>\n",
       "    </tr>\n",
       "  </tbody>\n",
       "</table>\n",
       "<p>6504 rows × 8 columns</p>\n",
       "</div>"
      ],
      "text/plain": [
       "                  High         Low        Open       Close     Volume  \\\n",
       "Date                                                                    \n",
       "1995-01-03   15.625000   15.437500   15.468750   15.593750  3318400.0   \n",
       "1995-01-04   15.656250   15.312500   15.531250   15.468750  2218800.0   \n",
       "1995-01-05   15.437500   15.218750   15.375000   15.250000  2319600.0   \n",
       "1995-01-06   15.406250   15.156250   15.156250   15.281250  3438000.0   \n",
       "1995-01-09   15.406250   15.187500   15.343750   15.218750  1795200.0   \n",
       "...                ...         ...         ...         ...        ...   \n",
       "2020-10-23  142.880005  141.759995  141.759995  142.380005  4278100.0   \n",
       "2020-10-26  142.050003  140.009995  141.500000  141.300003  5315500.0   \n",
       "2020-10-27  143.339996  141.649994  141.940002  142.360001  6806700.0   \n",
       "2020-10-28  140.940002  137.309998  140.449997  137.660004  8192200.0   \n",
       "2020-10-29  139.089996  135.800003  137.350006  137.570007  5475200.0   \n",
       "\n",
       "             Adj Close  Simple Returns  log returns  \n",
       "Date                                                 \n",
       "1995-01-03    8.215732             NaN          NaN  \n",
       "1995-01-04    8.149876       -0.008016    -0.008048  \n",
       "1995-01-05    8.034625       -0.014141    -0.014242  \n",
       "1995-01-06    8.051086        0.002049     0.002047  \n",
       "1995-01-09    8.018162       -0.004089    -0.004098  \n",
       "...                ...             ...          ...  \n",
       "2020-10-23  142.380005        0.006575     0.006553  \n",
       "2020-10-26  141.300003       -0.007585    -0.007614  \n",
       "2020-10-27  142.360001        0.007502     0.007474  \n",
       "2020-10-28  137.660004       -0.033015    -0.033572  \n",
       "2020-10-29  137.570007       -0.000654    -0.000654  \n",
       "\n",
       "[6504 rows x 8 columns]"
      ]
     },
     "execution_count": 17,
     "metadata": {},
     "output_type": "execute_result"
    }
   ],
   "source": [
    "PG"
   ]
  },
  {
   "cell_type": "code",
   "execution_count": 18,
   "metadata": {},
   "outputs": [
    {
     "data": {
      "image/png": "[encoded data removed]",
      "text/plain": [
       "<Figure size 1152x432 with 1 Axes>"
      ]
     },
     "metadata": {
      "needs_background": "light"
     },
     "output_type": "display_data"
    }
   ],
   "source": [
    "plt.figure(figsize=(16, 6))\n",
    "plt.plot(PG['Simple Returns'])\n",
    "plt.show()"
   ]
  },
  {
   "cell_type": "code",
   "execution_count": 19,
   "metadata": {},
   "outputs": [
    {
     "data": {
      "image/png": "[encoded data removed]",
      "text/plain": [
       "<Figure size 1152x432 with 1 Axes>"
      ]
     },
     "metadata": {
      "needs_background": "light"
     },
     "output_type": "display_data"
    }
   ],
   "source": [
    "PG['log returns'].plot(figsize=(16, 6))\n",
    "plt.show()"
   ]
  },
  {
   "cell_type": "markdown",
   "metadata": {},
   "source": [
    "The two methods used above differ slightly and the log adjusted returns are the most accurate.\n",
    "the graphs above show the daily returns of PG stock since 1995-1-1"
   ]
  },
  {
   "cell_type": "markdown",
   "metadata": {},
   "source": [
    "###### Calculate the mean of the log adjusted returns to see the average return per day of Proctor and Gamble since 1995 :)"
   ]
  },
  {
   "cell_type": "code",
   "execution_count": 20,
   "metadata": {},
   "outputs": [
    {
     "data": {
      "text/plain": [
       "0.1083377719919581"
      ]
     },
     "execution_count": 20,
     "metadata": {},
     "output_type": "execute_result"
    }
   ],
   "source": [
    "log_return = PG['log returns'].mean() * 250\n",
    "\n",
    "log_return                            # this is the average annual return"
   ]
  },
  {
   "cell_type": "code",
   "execution_count": 24,
   "metadata": {},
   "outputs": [
    {
     "name": "stdout",
     "output_type": "stream",
     "text": [
      "10.83 %\n"
     ]
    }
   ],
   "source": [
    "print(str(round(log_return, 4) * 100) + ' %')"
   ]
  }
 ],
 "metadata": {
  "kernelspec": {
   "display_name": "Python 3",
   "language": "python",
   "name": "python3"
  },
  "language_info": {
   "codemirror_mode": {
    "name": "ipython",
    "version": 3
   },
   "file_extension": ".py",
   "mimetype": "text/x-python",
   "name": "python",
   "nbconvert_exporter": "python",
   "pygments_lexer": "ipython3",
   "version": "3.8.5"
  }
 },
 "nbformat": 4,
 "nbformat_minor": 4
}
