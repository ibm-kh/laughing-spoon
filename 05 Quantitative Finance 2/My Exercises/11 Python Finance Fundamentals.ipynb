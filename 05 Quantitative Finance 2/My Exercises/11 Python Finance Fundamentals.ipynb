{
 "cells": [
  {
   "cell_type": "code",
   "execution_count": 1,
   "metadata": {},
   "outputs": [],
   "source": [
    "import numpy as np\n",
    "import pandas as pd\n",
    "import quandl"
   ]
  },
  {
   "cell_type": "code",
   "execution_count": 2,
   "metadata": {},
   "outputs": [],
   "source": [
    "start = pd.to_datetime('2012-01-01')\n",
    "end = pd.to_datetime('2017-01-01')"
   ]
  },
  {
   "cell_type": "code",
   "execution_count": 3,
   "metadata": {},
   "outputs": [],
   "source": [
    "aapl = quandl.get('WIKI/AAL.11',start_date=start,end_date=end)\n",
    "cisco = quandl.get('WIKI/CSCO.11',start_date=start,end_date=end)\n",
    "ibm = quandl.get('WIKI/IBM.11',start_date=start,end_date=end)\n",
    "amzn = quandl.get('WIKI/AMZN.11',start_date=start,end_date=end)"
   ]
  },
  {
   "cell_type": "code",
   "execution_count": 4,
   "metadata": {},
   "outputs": [
    {
     "data": {
      "text/html": [
       "<div>\n",
       "<style scoped>\n",
       "    .dataframe tbody tr th:only-of-type {\n",
       "        vertical-align: middle;\n",
       "    }\n",
       "\n",
       "    .dataframe tbody tr th {\n",
       "        vertical-align: top;\n",
       "    }\n",
       "\n",
       "    .dataframe thead th {\n",
       "        text-align: right;\n",
       "    }\n",
       "</style>\n",
       "<table border=\"1\" class=\"dataframe\">\n",
       "  <thead>\n",
       "    <tr style=\"text-align: right;\">\n",
       "      <th></th>\n",
       "      <th>Adj. Close</th>\n",
       "    </tr>\n",
       "    <tr>\n",
       "      <th>Date</th>\n",
       "      <th></th>\n",
       "    </tr>\n",
       "  </thead>\n",
       "  <tbody>\n",
       "    <tr>\n",
       "      <th>2012-01-03</th>\n",
       "      <td>13.303512</td>\n",
       "    </tr>\n",
       "    <tr>\n",
       "      <th>2012-01-04</th>\n",
       "      <td>13.069661</td>\n",
       "    </tr>\n",
       "    <tr>\n",
       "      <th>2012-01-05</th>\n",
       "      <td>14.212931</td>\n",
       "    </tr>\n",
       "    <tr>\n",
       "      <th>2012-01-06</th>\n",
       "      <td>14.550716</td>\n",
       "    </tr>\n",
       "    <tr>\n",
       "      <th>2012-01-09</th>\n",
       "      <td>14.862517</td>\n",
       "    </tr>\n",
       "    <tr>\n",
       "      <th>...</th>\n",
       "      <td>...</td>\n",
       "    </tr>\n",
       "    <tr>\n",
       "      <th>2016-12-23</th>\n",
       "      <td>48.170973</td>\n",
       "    </tr>\n",
       "    <tr>\n",
       "      <th>2016-12-27</th>\n",
       "      <td>48.300145</td>\n",
       "    </tr>\n",
       "    <tr>\n",
       "      <th>2016-12-28</th>\n",
       "      <td>47.366137</td>\n",
       "    </tr>\n",
       "    <tr>\n",
       "      <th>2016-12-29</th>\n",
       "      <td>46.948814</td>\n",
       "    </tr>\n",
       "    <tr>\n",
       "      <th>2016-12-30</th>\n",
       "      <td>46.392384</td>\n",
       "    </tr>\n",
       "  </tbody>\n",
       "</table>\n",
       "<p>1258 rows × 1 columns</p>\n",
       "</div>"
      ],
      "text/plain": [
       "            Adj. Close\n",
       "Date                  \n",
       "2012-01-03   13.303512\n",
       "2012-01-04   13.069661\n",
       "2012-01-05   14.212931\n",
       "2012-01-06   14.550716\n",
       "2012-01-09   14.862517\n",
       "...                ...\n",
       "2016-12-23   48.170973\n",
       "2016-12-27   48.300145\n",
       "2016-12-28   47.366137\n",
       "2016-12-29   46.948814\n",
       "2016-12-30   46.392384\n",
       "\n",
       "[1258 rows x 1 columns]"
      ]
     },
     "execution_count": 4,
     "metadata": {},
     "output_type": "execute_result"
    }
   ],
   "source": [
    "aapl"
   ]
  },
  {
   "cell_type": "code",
   "execution_count": 5,
   "metadata": {},
   "outputs": [
    {
     "data": {
      "text/html": [
       "<div>\n",
       "<style scoped>\n",
       "    .dataframe tbody tr th:only-of-type {\n",
       "        vertical-align: middle;\n",
       "    }\n",
       "\n",
       "    .dataframe tbody tr th {\n",
       "        vertical-align: top;\n",
       "    }\n",
       "\n",
       "    .dataframe thead th {\n",
       "        text-align: right;\n",
       "    }\n",
       "</style>\n",
       "<table border=\"1\" class=\"dataframe\">\n",
       "  <thead>\n",
       "    <tr style=\"text-align: right;\">\n",
       "      <th></th>\n",
       "      <th>Adj. Close</th>\n",
       "    </tr>\n",
       "    <tr>\n",
       "      <th>Date</th>\n",
       "      <th></th>\n",
       "    </tr>\n",
       "  </thead>\n",
       "  <tbody>\n",
       "    <tr>\n",
       "      <th>2012-01-03</th>\n",
       "      <td>15.617341</td>\n",
       "    </tr>\n",
       "    <tr>\n",
       "      <th>2012-01-04</th>\n",
       "      <td>15.919125</td>\n",
       "    </tr>\n",
       "    <tr>\n",
       "      <th>2012-01-05</th>\n",
       "      <td>15.860445</td>\n",
       "    </tr>\n",
       "    <tr>\n",
       "      <th>2012-01-06</th>\n",
       "      <td>15.801764</td>\n",
       "    </tr>\n",
       "    <tr>\n",
       "      <th>2012-01-09</th>\n",
       "      <td>15.902359</td>\n",
       "    </tr>\n",
       "    <tr>\n",
       "      <th>...</th>\n",
       "      <td>...</td>\n",
       "    </tr>\n",
       "    <tr>\n",
       "      <th>2016-12-23</th>\n",
       "      <td>29.475311</td>\n",
       "    </tr>\n",
       "    <tr>\n",
       "      <th>2016-12-27</th>\n",
       "      <td>29.620129</td>\n",
       "    </tr>\n",
       "    <tr>\n",
       "      <th>2016-12-28</th>\n",
       "      <td>29.369111</td>\n",
       "    </tr>\n",
       "    <tr>\n",
       "      <th>2016-12-29</th>\n",
       "      <td>29.407729</td>\n",
       "    </tr>\n",
       "    <tr>\n",
       "      <th>2016-12-30</th>\n",
       "      <td>29.176020</td>\n",
       "    </tr>\n",
       "  </tbody>\n",
       "</table>\n",
       "<p>1258 rows × 1 columns</p>\n",
       "</div>"
      ],
      "text/plain": [
       "            Adj. Close\n",
       "Date                  \n",
       "2012-01-03   15.617341\n",
       "2012-01-04   15.919125\n",
       "2012-01-05   15.860445\n",
       "2012-01-06   15.801764\n",
       "2012-01-09   15.902359\n",
       "...                ...\n",
       "2016-12-23   29.475311\n",
       "2016-12-27   29.620129\n",
       "2016-12-28   29.369111\n",
       "2016-12-29   29.407729\n",
       "2016-12-30   29.176020\n",
       "\n",
       "[1258 rows x 1 columns]"
      ]
     },
     "execution_count": 5,
     "metadata": {},
     "output_type": "execute_result"
    }
   ],
   "source": [
    "cisco"
   ]
  },
  {
   "cell_type": "markdown",
   "metadata": {},
   "source": [
    "###  Cumulative Returns"
   ]
  },
  {
   "cell_type": "code",
   "execution_count": 6,
   "metadata": {},
   "outputs": [],
   "source": [
    "for stock_df in (aapl,cisco,ibm,amzn):\n",
    "    stock_df['Normed Return'] = stock_df['Adj. Close'] / stock_df.iloc[0]['Adj. Close']"
   ]
  },
  {
   "cell_type": "code",
   "execution_count": 7,
   "metadata": {
    "scrolled": true
   },
   "outputs": [
    {
     "data": {
      "text/html": [
       "<div>\n",
       "<style scoped>\n",
       "    .dataframe tbody tr th:only-of-type {\n",
       "        vertical-align: middle;\n",
       "    }\n",
       "\n",
       "    .dataframe tbody tr th {\n",
       "        vertical-align: top;\n",
       "    }\n",
       "\n",
       "    .dataframe thead th {\n",
       "        text-align: right;\n",
       "    }\n",
       "</style>\n",
       "<table border=\"1\" class=\"dataframe\">\n",
       "  <thead>\n",
       "    <tr style=\"text-align: right;\">\n",
       "      <th></th>\n",
       "      <th>Adj. Close</th>\n",
       "      <th>Normed Return</th>\n",
       "    </tr>\n",
       "    <tr>\n",
       "      <th>Date</th>\n",
       "      <th></th>\n",
       "      <th></th>\n",
       "    </tr>\n",
       "  </thead>\n",
       "  <tbody>\n",
       "    <tr>\n",
       "      <th>2012-01-03</th>\n",
       "      <td>13.303512</td>\n",
       "      <td>1.000000</td>\n",
       "    </tr>\n",
       "    <tr>\n",
       "      <th>2012-01-04</th>\n",
       "      <td>13.069661</td>\n",
       "      <td>0.982422</td>\n",
       "    </tr>\n",
       "    <tr>\n",
       "      <th>2012-01-05</th>\n",
       "      <td>14.212931</td>\n",
       "      <td>1.068359</td>\n",
       "    </tr>\n",
       "    <tr>\n",
       "      <th>2012-01-06</th>\n",
       "      <td>14.550716</td>\n",
       "      <td>1.093750</td>\n",
       "    </tr>\n",
       "    <tr>\n",
       "      <th>2012-01-09</th>\n",
       "      <td>14.862517</td>\n",
       "      <td>1.117188</td>\n",
       "    </tr>\n",
       "    <tr>\n",
       "      <th>...</th>\n",
       "      <td>...</td>\n",
       "      <td>...</td>\n",
       "    </tr>\n",
       "    <tr>\n",
       "      <th>2016-12-23</th>\n",
       "      <td>48.170973</td>\n",
       "      <td>3.620922</td>\n",
       "    </tr>\n",
       "    <tr>\n",
       "      <th>2016-12-27</th>\n",
       "      <td>48.300145</td>\n",
       "      <td>3.630631</td>\n",
       "    </tr>\n",
       "    <tr>\n",
       "      <th>2016-12-28</th>\n",
       "      <td>47.366137</td>\n",
       "      <td>3.560424</td>\n",
       "    </tr>\n",
       "    <tr>\n",
       "      <th>2016-12-29</th>\n",
       "      <td>46.948814</td>\n",
       "      <td>3.529054</td>\n",
       "    </tr>\n",
       "    <tr>\n",
       "      <th>2016-12-30</th>\n",
       "      <td>46.392384</td>\n",
       "      <td>3.487228</td>\n",
       "    </tr>\n",
       "  </tbody>\n",
       "</table>\n",
       "<p>1258 rows × 2 columns</p>\n",
       "</div>"
      ],
      "text/plain": [
       "            Adj. Close  Normed Return\n",
       "Date                                 \n",
       "2012-01-03   13.303512       1.000000\n",
       "2012-01-04   13.069661       0.982422\n",
       "2012-01-05   14.212931       1.068359\n",
       "2012-01-06   14.550716       1.093750\n",
       "2012-01-09   14.862517       1.117188\n",
       "...                ...            ...\n",
       "2016-12-23   48.170973       3.620922\n",
       "2016-12-27   48.300145       3.630631\n",
       "2016-12-28   47.366137       3.560424\n",
       "2016-12-29   46.948814       3.529054\n",
       "2016-12-30   46.392384       3.487228\n",
       "\n",
       "[1258 rows x 2 columns]"
      ]
     },
     "execution_count": 7,
     "metadata": {},
     "output_type": "execute_result"
    }
   ],
   "source": [
    "aapl"
   ]
  },
  {
   "cell_type": "code",
   "execution_count": 8,
   "metadata": {},
   "outputs": [
    {
     "data": {
      "text/html": [
       "<div>\n",
       "<style scoped>\n",
       "    .dataframe tbody tr th:only-of-type {\n",
       "        vertical-align: middle;\n",
       "    }\n",
       "\n",
       "    .dataframe tbody tr th {\n",
       "        vertical-align: top;\n",
       "    }\n",
       "\n",
       "    .dataframe thead th {\n",
       "        text-align: right;\n",
       "    }\n",
       "</style>\n",
       "<table border=\"1\" class=\"dataframe\">\n",
       "  <thead>\n",
       "    <tr style=\"text-align: right;\">\n",
       "      <th></th>\n",
       "      <th>Adj. Close</th>\n",
       "      <th>Normed Return</th>\n",
       "    </tr>\n",
       "    <tr>\n",
       "      <th>Date</th>\n",
       "      <th></th>\n",
       "      <th></th>\n",
       "    </tr>\n",
       "  </thead>\n",
       "  <tbody>\n",
       "    <tr>\n",
       "      <th>2016-12-23</th>\n",
       "      <td>48.170973</td>\n",
       "      <td>3.620922</td>\n",
       "    </tr>\n",
       "    <tr>\n",
       "      <th>2016-12-27</th>\n",
       "      <td>48.300145</td>\n",
       "      <td>3.630631</td>\n",
       "    </tr>\n",
       "    <tr>\n",
       "      <th>2016-12-28</th>\n",
       "      <td>47.366137</td>\n",
       "      <td>3.560424</td>\n",
       "    </tr>\n",
       "    <tr>\n",
       "      <th>2016-12-29</th>\n",
       "      <td>46.948814</td>\n",
       "      <td>3.529054</td>\n",
       "    </tr>\n",
       "    <tr>\n",
       "      <th>2016-12-30</th>\n",
       "      <td>46.392384</td>\n",
       "      <td>3.487228</td>\n",
       "    </tr>\n",
       "  </tbody>\n",
       "</table>\n",
       "</div>"
      ],
      "text/plain": [
       "            Adj. Close  Normed Return\n",
       "Date                                 \n",
       "2016-12-23   48.170973       3.620922\n",
       "2016-12-27   48.300145       3.630631\n",
       "2016-12-28   47.366137       3.560424\n",
       "2016-12-29   46.948814       3.529054\n",
       "2016-12-30   46.392384       3.487228"
      ]
     },
     "execution_count": 8,
     "metadata": {},
     "output_type": "execute_result"
    }
   ],
   "source": [
    "aapl.tail()"
   ]
  },
  {
   "cell_type": "code",
   "execution_count": 9,
   "metadata": {},
   "outputs": [],
   "source": [
    "# 30% in apple\n",
    "# 20% in cisco\n",
    "# 40% in ibm\n",
    "# 10% in amzn"
   ]
  },
  {
   "cell_type": "code",
   "execution_count": 10,
   "metadata": {
    "scrolled": true
   },
   "outputs": [
    {
     "data": {
      "text/plain": [
       "[(            Adj. Close  Normed Return\n",
       "  Date                                 \n",
       "  2012-01-03   13.303512       1.000000\n",
       "  2012-01-04   13.069661       0.982422\n",
       "  2012-01-05   14.212931       1.068359\n",
       "  2012-01-06   14.550716       1.093750\n",
       "  2012-01-09   14.862517       1.117188\n",
       "  ...                ...            ...\n",
       "  2016-12-23   48.170973       3.620922\n",
       "  2016-12-27   48.300145       3.630631\n",
       "  2016-12-28   47.366137       3.560424\n",
       "  2016-12-29   46.948814       3.529054\n",
       "  2016-12-30   46.392384       3.487228\n",
       "  \n",
       "  [1258 rows x 2 columns],\n",
       "  0.3),\n",
       " (            Adj. Close  Normed Return\n",
       "  Date                                 \n",
       "  2012-01-03   15.617341       1.000000\n",
       "  2012-01-04   15.919125       1.019324\n",
       "  2012-01-05   15.860445       1.015566\n",
       "  2012-01-06   15.801764       1.011809\n",
       "  2012-01-09   15.902359       1.018250\n",
       "  ...                ...            ...\n",
       "  2016-12-23   29.475311       1.887345\n",
       "  2016-12-27   29.620129       1.896618\n",
       "  2016-12-28   29.369111       1.880545\n",
       "  2016-12-29   29.407729       1.883018\n",
       "  2016-12-30   29.176020       1.868181\n",
       "  \n",
       "  [1258 rows x 2 columns],\n",
       "  0.2),\n",
       " (            Adj. Close  Normed Return\n",
       "  Date                                 \n",
       "  2012-01-03  157.578371       1.000000\n",
       "  2012-01-04  156.935540       0.995921\n",
       "  2012-01-05  156.191208       0.991197\n",
       "  2012-01-06  154.398046       0.979817\n",
       "  2012-01-09  153.594506       0.974718\n",
       "  ...                ...            ...\n",
       "  2016-12-23  160.477796       1.018400\n",
       "  2016-12-27  160.891721       1.021027\n",
       "  2016-12-28  159.977235       1.015223\n",
       "  2016-12-29  160.371908       1.017728\n",
       "  2016-12-30  159.784712       1.014002\n",
       "  \n",
       "  [1258 rows x 2 columns],\n",
       "  0.4),\n",
       " (            Adj. Close  Normed Return\n",
       "  Date                                 \n",
       "  2012-01-03      179.03       1.000000\n",
       "  2012-01-04      177.51       0.991510\n",
       "  2012-01-05      177.61       0.992068\n",
       "  2012-01-06      182.61       1.019997\n",
       "  2012-01-09      178.56       0.997375\n",
       "  ...                ...            ...\n",
       "  2016-12-23      760.59       4.248394\n",
       "  2016-12-27      771.40       4.308775\n",
       "  2016-12-28      772.13       4.312853\n",
       "  2016-12-29      765.15       4.273865\n",
       "  2016-12-30      749.87       4.188516\n",
       "  \n",
       "  [1258 rows x 2 columns],\n",
       "  0.1)]"
      ]
     },
     "execution_count": 10,
     "metadata": {},
     "output_type": "execute_result"
    }
   ],
   "source": [
    "list(zip((aapl,cisco,ibm,amzn),[.3,.2,.4,.1]))"
   ]
  },
  {
   "cell_type": "code",
   "execution_count": 11,
   "metadata": {},
   "outputs": [],
   "source": [
    "for stock_df , allo in zip((aapl,cisco,ibm,amzn),[.3,.2,.4,.1]):\n",
    "    stock_df['Allocation'] = stock_df['Normed Return']*allo"
   ]
  },
  {
   "cell_type": "code",
   "execution_count": 12,
   "metadata": {},
   "outputs": [
    {
     "data": {
      "text/html": [
       "<div>\n",
       "<style scoped>\n",
       "    .dataframe tbody tr th:only-of-type {\n",
       "        vertical-align: middle;\n",
       "    }\n",
       "\n",
       "    .dataframe tbody tr th {\n",
       "        vertical-align: top;\n",
       "    }\n",
       "\n",
       "    .dataframe thead th {\n",
       "        text-align: right;\n",
       "    }\n",
       "</style>\n",
       "<table border=\"1\" class=\"dataframe\">\n",
       "  <thead>\n",
       "    <tr style=\"text-align: right;\">\n",
       "      <th></th>\n",
       "      <th>Adj. Close</th>\n",
       "      <th>Normed Return</th>\n",
       "      <th>Allocation</th>\n",
       "    </tr>\n",
       "    <tr>\n",
       "      <th>Date</th>\n",
       "      <th></th>\n",
       "      <th></th>\n",
       "      <th></th>\n",
       "    </tr>\n",
       "  </thead>\n",
       "  <tbody>\n",
       "    <tr>\n",
       "      <th>2012-01-03</th>\n",
       "      <td>13.303512</td>\n",
       "      <td>1.000000</td>\n",
       "      <td>0.300000</td>\n",
       "    </tr>\n",
       "    <tr>\n",
       "      <th>2012-01-04</th>\n",
       "      <td>13.069661</td>\n",
       "      <td>0.982422</td>\n",
       "      <td>0.294727</td>\n",
       "    </tr>\n",
       "    <tr>\n",
       "      <th>2012-01-05</th>\n",
       "      <td>14.212931</td>\n",
       "      <td>1.068359</td>\n",
       "      <td>0.320508</td>\n",
       "    </tr>\n",
       "    <tr>\n",
       "      <th>2012-01-06</th>\n",
       "      <td>14.550716</td>\n",
       "      <td>1.093750</td>\n",
       "      <td>0.328125</td>\n",
       "    </tr>\n",
       "    <tr>\n",
       "      <th>2012-01-09</th>\n",
       "      <td>14.862517</td>\n",
       "      <td>1.117188</td>\n",
       "      <td>0.335156</td>\n",
       "    </tr>\n",
       "  </tbody>\n",
       "</table>\n",
       "</div>"
      ],
      "text/plain": [
       "            Adj. Close  Normed Return  Allocation\n",
       "Date                                             \n",
       "2012-01-03   13.303512       1.000000    0.300000\n",
       "2012-01-04   13.069661       0.982422    0.294727\n",
       "2012-01-05   14.212931       1.068359    0.320508\n",
       "2012-01-06   14.550716       1.093750    0.328125\n",
       "2012-01-09   14.862517       1.117188    0.335156"
      ]
     },
     "execution_count": 12,
     "metadata": {},
     "output_type": "execute_result"
    }
   ],
   "source": [
    "aapl.head()"
   ]
  },
  {
   "cell_type": "code",
   "execution_count": 13,
   "metadata": {},
   "outputs": [
    {
     "data": {
      "text/html": [
       "<div>\n",
       "<style scoped>\n",
       "    .dataframe tbody tr th:only-of-type {\n",
       "        vertical-align: middle;\n",
       "    }\n",
       "\n",
       "    .dataframe tbody tr th {\n",
       "        vertical-align: top;\n",
       "    }\n",
       "\n",
       "    .dataframe thead th {\n",
       "        text-align: right;\n",
       "    }\n",
       "</style>\n",
       "<table border=\"1\" class=\"dataframe\">\n",
       "  <thead>\n",
       "    <tr style=\"text-align: right;\">\n",
       "      <th></th>\n",
       "      <th>Adj. Close</th>\n",
       "      <th>Normed Return</th>\n",
       "      <th>Allocation</th>\n",
       "    </tr>\n",
       "    <tr>\n",
       "      <th>Date</th>\n",
       "      <th></th>\n",
       "      <th></th>\n",
       "      <th></th>\n",
       "    </tr>\n",
       "  </thead>\n",
       "  <tbody>\n",
       "    <tr>\n",
       "      <th>2012-01-03</th>\n",
       "      <td>157.578371</td>\n",
       "      <td>1.000000</td>\n",
       "      <td>0.400000</td>\n",
       "    </tr>\n",
       "    <tr>\n",
       "      <th>2012-01-04</th>\n",
       "      <td>156.935540</td>\n",
       "      <td>0.995921</td>\n",
       "      <td>0.398368</td>\n",
       "    </tr>\n",
       "    <tr>\n",
       "      <th>2012-01-05</th>\n",
       "      <td>156.191208</td>\n",
       "      <td>0.991197</td>\n",
       "      <td>0.396479</td>\n",
       "    </tr>\n",
       "    <tr>\n",
       "      <th>2012-01-06</th>\n",
       "      <td>154.398046</td>\n",
       "      <td>0.979817</td>\n",
       "      <td>0.391927</td>\n",
       "    </tr>\n",
       "    <tr>\n",
       "      <th>2012-01-09</th>\n",
       "      <td>153.594506</td>\n",
       "      <td>0.974718</td>\n",
       "      <td>0.389887</td>\n",
       "    </tr>\n",
       "  </tbody>\n",
       "</table>\n",
       "</div>"
      ],
      "text/plain": [
       "            Adj. Close  Normed Return  Allocation\n",
       "Date                                             \n",
       "2012-01-03  157.578371       1.000000    0.400000\n",
       "2012-01-04  156.935540       0.995921    0.398368\n",
       "2012-01-05  156.191208       0.991197    0.396479\n",
       "2012-01-06  154.398046       0.979817    0.391927\n",
       "2012-01-09  153.594506       0.974718    0.389887"
      ]
     },
     "execution_count": 13,
     "metadata": {},
     "output_type": "execute_result"
    }
   ],
   "source": [
    "ibm.head()"
   ]
  },
  {
   "cell_type": "code",
   "execution_count": 14,
   "metadata": {
    "scrolled": true
   },
   "outputs": [
    {
     "data": {
      "text/html": [
       "<div>\n",
       "<style scoped>\n",
       "    .dataframe tbody tr th:only-of-type {\n",
       "        vertical-align: middle;\n",
       "    }\n",
       "\n",
       "    .dataframe tbody tr th {\n",
       "        vertical-align: top;\n",
       "    }\n",
       "\n",
       "    .dataframe thead th {\n",
       "        text-align: right;\n",
       "    }\n",
       "</style>\n",
       "<table border=\"1\" class=\"dataframe\">\n",
       "  <thead>\n",
       "    <tr style=\"text-align: right;\">\n",
       "      <th></th>\n",
       "      <th>Adj. Close</th>\n",
       "      <th>Normed Return</th>\n",
       "      <th>Allocation</th>\n",
       "    </tr>\n",
       "    <tr>\n",
       "      <th>Date</th>\n",
       "      <th></th>\n",
       "      <th></th>\n",
       "      <th></th>\n",
       "    </tr>\n",
       "  </thead>\n",
       "  <tbody>\n",
       "    <tr>\n",
       "      <th>2012-01-03</th>\n",
       "      <td>179.03</td>\n",
       "      <td>1.000000</td>\n",
       "      <td>0.100000</td>\n",
       "    </tr>\n",
       "    <tr>\n",
       "      <th>2012-01-04</th>\n",
       "      <td>177.51</td>\n",
       "      <td>0.991510</td>\n",
       "      <td>0.099151</td>\n",
       "    </tr>\n",
       "    <tr>\n",
       "      <th>2012-01-05</th>\n",
       "      <td>177.61</td>\n",
       "      <td>0.992068</td>\n",
       "      <td>0.099207</td>\n",
       "    </tr>\n",
       "    <tr>\n",
       "      <th>2012-01-06</th>\n",
       "      <td>182.61</td>\n",
       "      <td>1.019997</td>\n",
       "      <td>0.102000</td>\n",
       "    </tr>\n",
       "    <tr>\n",
       "      <th>2012-01-09</th>\n",
       "      <td>178.56</td>\n",
       "      <td>0.997375</td>\n",
       "      <td>0.099737</td>\n",
       "    </tr>\n",
       "  </tbody>\n",
       "</table>\n",
       "</div>"
      ],
      "text/plain": [
       "            Adj. Close  Normed Return  Allocation\n",
       "Date                                             \n",
       "2012-01-03      179.03       1.000000    0.100000\n",
       "2012-01-04      177.51       0.991510    0.099151\n",
       "2012-01-05      177.61       0.992068    0.099207\n",
       "2012-01-06      182.61       1.019997    0.102000\n",
       "2012-01-09      178.56       0.997375    0.099737"
      ]
     },
     "execution_count": 14,
     "metadata": {},
     "output_type": "execute_result"
    }
   ],
   "source": [
    "amzn.head()"
   ]
  },
  {
   "cell_type": "code",
   "execution_count": 15,
   "metadata": {},
   "outputs": [
    {
     "data": {
      "text/html": [
       "<div>\n",
       "<style scoped>\n",
       "    .dataframe tbody tr th:only-of-type {\n",
       "        vertical-align: middle;\n",
       "    }\n",
       "\n",
       "    .dataframe tbody tr th {\n",
       "        vertical-align: top;\n",
       "    }\n",
       "\n",
       "    .dataframe thead th {\n",
       "        text-align: right;\n",
       "    }\n",
       "</style>\n",
       "<table border=\"1\" class=\"dataframe\">\n",
       "  <thead>\n",
       "    <tr style=\"text-align: right;\">\n",
       "      <th></th>\n",
       "      <th>Adj. Close</th>\n",
       "      <th>Normed Return</th>\n",
       "      <th>Allocation</th>\n",
       "    </tr>\n",
       "    <tr>\n",
       "      <th>Date</th>\n",
       "      <th></th>\n",
       "      <th></th>\n",
       "      <th></th>\n",
       "    </tr>\n",
       "  </thead>\n",
       "  <tbody>\n",
       "    <tr>\n",
       "      <th>2012-01-03</th>\n",
       "      <td>15.617341</td>\n",
       "      <td>1.000000</td>\n",
       "      <td>0.200000</td>\n",
       "    </tr>\n",
       "    <tr>\n",
       "      <th>2012-01-04</th>\n",
       "      <td>15.919125</td>\n",
       "      <td>1.019324</td>\n",
       "      <td>0.203865</td>\n",
       "    </tr>\n",
       "    <tr>\n",
       "      <th>2012-01-05</th>\n",
       "      <td>15.860445</td>\n",
       "      <td>1.015566</td>\n",
       "      <td>0.203113</td>\n",
       "    </tr>\n",
       "    <tr>\n",
       "      <th>2012-01-06</th>\n",
       "      <td>15.801764</td>\n",
       "      <td>1.011809</td>\n",
       "      <td>0.202362</td>\n",
       "    </tr>\n",
       "    <tr>\n",
       "      <th>2012-01-09</th>\n",
       "      <td>15.902359</td>\n",
       "      <td>1.018250</td>\n",
       "      <td>0.203650</td>\n",
       "    </tr>\n",
       "  </tbody>\n",
       "</table>\n",
       "</div>"
      ],
      "text/plain": [
       "            Adj. Close  Normed Return  Allocation\n",
       "Date                                             \n",
       "2012-01-03   15.617341       1.000000    0.200000\n",
       "2012-01-04   15.919125       1.019324    0.203865\n",
       "2012-01-05   15.860445       1.015566    0.203113\n",
       "2012-01-06   15.801764       1.011809    0.202362\n",
       "2012-01-09   15.902359       1.018250    0.203650"
      ]
     },
     "execution_count": 15,
     "metadata": {},
     "output_type": "execute_result"
    }
   ],
   "source": [
    "cisco.head()"
   ]
  },
  {
   "cell_type": "code",
   "execution_count": 16,
   "metadata": {},
   "outputs": [],
   "source": [
    "for stock_df in (aapl,cisco,ibm,amzn):\n",
    "    stock_df['Position Values'] = stock_df['Allocation'] * 1000000"
   ]
  },
  {
   "cell_type": "code",
   "execution_count": 17,
   "metadata": {},
   "outputs": [
    {
     "data": {
      "text/html": [
       "<div>\n",
       "<style scoped>\n",
       "    .dataframe tbody tr th:only-of-type {\n",
       "        vertical-align: middle;\n",
       "    }\n",
       "\n",
       "    .dataframe tbody tr th {\n",
       "        vertical-align: top;\n",
       "    }\n",
       "\n",
       "    .dataframe thead th {\n",
       "        text-align: right;\n",
       "    }\n",
       "</style>\n",
       "<table border=\"1\" class=\"dataframe\">\n",
       "  <thead>\n",
       "    <tr style=\"text-align: right;\">\n",
       "      <th></th>\n",
       "      <th>Adj. Close</th>\n",
       "      <th>Normed Return</th>\n",
       "      <th>Allocation</th>\n",
       "      <th>Position Values</th>\n",
       "    </tr>\n",
       "    <tr>\n",
       "      <th>Date</th>\n",
       "      <th></th>\n",
       "      <th></th>\n",
       "      <th></th>\n",
       "      <th></th>\n",
       "    </tr>\n",
       "  </thead>\n",
       "  <tbody>\n",
       "    <tr>\n",
       "      <th>2012-01-03</th>\n",
       "      <td>13.303512</td>\n",
       "      <td>1.000000</td>\n",
       "      <td>0.300000</td>\n",
       "      <td>300000.0000</td>\n",
       "    </tr>\n",
       "    <tr>\n",
       "      <th>2012-01-04</th>\n",
       "      <td>13.069661</td>\n",
       "      <td>0.982422</td>\n",
       "      <td>0.294727</td>\n",
       "      <td>294726.5625</td>\n",
       "    </tr>\n",
       "    <tr>\n",
       "      <th>2012-01-05</th>\n",
       "      <td>14.212931</td>\n",
       "      <td>1.068359</td>\n",
       "      <td>0.320508</td>\n",
       "      <td>320507.8125</td>\n",
       "    </tr>\n",
       "    <tr>\n",
       "      <th>2012-01-06</th>\n",
       "      <td>14.550716</td>\n",
       "      <td>1.093750</td>\n",
       "      <td>0.328125</td>\n",
       "      <td>328125.0000</td>\n",
       "    </tr>\n",
       "    <tr>\n",
       "      <th>2012-01-09</th>\n",
       "      <td>14.862517</td>\n",
       "      <td>1.117188</td>\n",
       "      <td>0.335156</td>\n",
       "      <td>335156.2500</td>\n",
       "    </tr>\n",
       "  </tbody>\n",
       "</table>\n",
       "</div>"
      ],
      "text/plain": [
       "            Adj. Close  Normed Return  Allocation  Position Values\n",
       "Date                                                              \n",
       "2012-01-03   13.303512       1.000000    0.300000      300000.0000\n",
       "2012-01-04   13.069661       0.982422    0.294727      294726.5625\n",
       "2012-01-05   14.212931       1.068359    0.320508      320507.8125\n",
       "2012-01-06   14.550716       1.093750    0.328125      328125.0000\n",
       "2012-01-09   14.862517       1.117188    0.335156      335156.2500"
      ]
     },
     "execution_count": 17,
     "metadata": {},
     "output_type": "execute_result"
    }
   ],
   "source": [
    "aapl.head()"
   ]
  },
  {
   "cell_type": "code",
   "execution_count": 18,
   "metadata": {},
   "outputs": [
    {
     "data": {
      "text/html": [
       "<div>\n",
       "<style scoped>\n",
       "    .dataframe tbody tr th:only-of-type {\n",
       "        vertical-align: middle;\n",
       "    }\n",
       "\n",
       "    .dataframe tbody tr th {\n",
       "        vertical-align: top;\n",
       "    }\n",
       "\n",
       "    .dataframe thead th {\n",
       "        text-align: right;\n",
       "    }\n",
       "</style>\n",
       "<table border=\"1\" class=\"dataframe\">\n",
       "  <thead>\n",
       "    <tr style=\"text-align: right;\">\n",
       "      <th></th>\n",
       "      <th>Adj. Close</th>\n",
       "      <th>Normed Return</th>\n",
       "      <th>Allocation</th>\n",
       "      <th>Position Values</th>\n",
       "    </tr>\n",
       "    <tr>\n",
       "      <th>Date</th>\n",
       "      <th></th>\n",
       "      <th></th>\n",
       "      <th></th>\n",
       "      <th></th>\n",
       "    </tr>\n",
       "  </thead>\n",
       "  <tbody>\n",
       "    <tr>\n",
       "      <th>2016-12-23</th>\n",
       "      <td>48.170973</td>\n",
       "      <td>3.620922</td>\n",
       "      <td>1.086277</td>\n",
       "      <td>1.086277e+06</td>\n",
       "    </tr>\n",
       "    <tr>\n",
       "      <th>2016-12-27</th>\n",
       "      <td>48.300145</td>\n",
       "      <td>3.630631</td>\n",
       "      <td>1.089189</td>\n",
       "      <td>1.089189e+06</td>\n",
       "    </tr>\n",
       "    <tr>\n",
       "      <th>2016-12-28</th>\n",
       "      <td>47.366137</td>\n",
       "      <td>3.560424</td>\n",
       "      <td>1.068127</td>\n",
       "      <td>1.068127e+06</td>\n",
       "    </tr>\n",
       "    <tr>\n",
       "      <th>2016-12-29</th>\n",
       "      <td>46.948814</td>\n",
       "      <td>3.529054</td>\n",
       "      <td>1.058716</td>\n",
       "      <td>1.058716e+06</td>\n",
       "    </tr>\n",
       "    <tr>\n",
       "      <th>2016-12-30</th>\n",
       "      <td>46.392384</td>\n",
       "      <td>3.487228</td>\n",
       "      <td>1.046169</td>\n",
       "      <td>1.046169e+06</td>\n",
       "    </tr>\n",
       "  </tbody>\n",
       "</table>\n",
       "</div>"
      ],
      "text/plain": [
       "            Adj. Close  Normed Return  Allocation  Position Values\n",
       "Date                                                              \n",
       "2016-12-23   48.170973       3.620922    1.086277     1.086277e+06\n",
       "2016-12-27   48.300145       3.630631    1.089189     1.089189e+06\n",
       "2016-12-28   47.366137       3.560424    1.068127     1.068127e+06\n",
       "2016-12-29   46.948814       3.529054    1.058716     1.058716e+06\n",
       "2016-12-30   46.392384       3.487228    1.046169     1.046169e+06"
      ]
     },
     "execution_count": 18,
     "metadata": {},
     "output_type": "execute_result"
    }
   ],
   "source": [
    "aapl.tail()"
   ]
  },
  {
   "cell_type": "code",
   "execution_count": 19,
   "metadata": {},
   "outputs": [
    {
     "data": {
      "text/html": [
       "<div>\n",
       "<style scoped>\n",
       "    .dataframe tbody tr th:only-of-type {\n",
       "        vertical-align: middle;\n",
       "    }\n",
       "\n",
       "    .dataframe tbody tr th {\n",
       "        vertical-align: top;\n",
       "    }\n",
       "\n",
       "    .dataframe thead th {\n",
       "        text-align: right;\n",
       "    }\n",
       "</style>\n",
       "<table border=\"1\" class=\"dataframe\">\n",
       "  <thead>\n",
       "    <tr style=\"text-align: right;\">\n",
       "      <th></th>\n",
       "      <th>Adj. Close</th>\n",
       "      <th>Normed Return</th>\n",
       "      <th>Allocation</th>\n",
       "      <th>Position Values</th>\n",
       "    </tr>\n",
       "    <tr>\n",
       "      <th>Date</th>\n",
       "      <th></th>\n",
       "      <th></th>\n",
       "      <th></th>\n",
       "      <th></th>\n",
       "    </tr>\n",
       "  </thead>\n",
       "  <tbody>\n",
       "    <tr>\n",
       "      <th>2012-01-03</th>\n",
       "      <td>15.617341</td>\n",
       "      <td>1.000000</td>\n",
       "      <td>0.200000</td>\n",
       "      <td>200000.000000</td>\n",
       "    </tr>\n",
       "    <tr>\n",
       "      <th>2012-01-04</th>\n",
       "      <td>15.919125</td>\n",
       "      <td>1.019324</td>\n",
       "      <td>0.203865</td>\n",
       "      <td>203864.734300</td>\n",
       "    </tr>\n",
       "    <tr>\n",
       "      <th>2012-01-05</th>\n",
       "      <td>15.860445</td>\n",
       "      <td>1.015566</td>\n",
       "      <td>0.203113</td>\n",
       "      <td>203113.258186</td>\n",
       "    </tr>\n",
       "    <tr>\n",
       "      <th>2012-01-06</th>\n",
       "      <td>15.801764</td>\n",
       "      <td>1.011809</td>\n",
       "      <td>0.202362</td>\n",
       "      <td>202361.782072</td>\n",
       "    </tr>\n",
       "    <tr>\n",
       "      <th>2012-01-09</th>\n",
       "      <td>15.902359</td>\n",
       "      <td>1.018250</td>\n",
       "      <td>0.203650</td>\n",
       "      <td>203650.026838</td>\n",
       "    </tr>\n",
       "  </tbody>\n",
       "</table>\n",
       "</div>"
      ],
      "text/plain": [
       "            Adj. Close  Normed Return  Allocation  Position Values\n",
       "Date                                                              \n",
       "2012-01-03   15.617341       1.000000    0.200000    200000.000000\n",
       "2012-01-04   15.919125       1.019324    0.203865    203864.734300\n",
       "2012-01-05   15.860445       1.015566    0.203113    203113.258186\n",
       "2012-01-06   15.801764       1.011809    0.202362    202361.782072\n",
       "2012-01-09   15.902359       1.018250    0.203650    203650.026838"
      ]
     },
     "execution_count": 19,
     "metadata": {},
     "output_type": "execute_result"
    }
   ],
   "source": [
    "cisco.head()"
   ]
  },
  {
   "cell_type": "code",
   "execution_count": 20,
   "metadata": {},
   "outputs": [
    {
     "data": {
      "text/html": [
       "<div>\n",
       "<style scoped>\n",
       "    .dataframe tbody tr th:only-of-type {\n",
       "        vertical-align: middle;\n",
       "    }\n",
       "\n",
       "    .dataframe tbody tr th {\n",
       "        vertical-align: top;\n",
       "    }\n",
       "\n",
       "    .dataframe thead th {\n",
       "        text-align: right;\n",
       "    }\n",
       "</style>\n",
       "<table border=\"1\" class=\"dataframe\">\n",
       "  <thead>\n",
       "    <tr style=\"text-align: right;\">\n",
       "      <th></th>\n",
       "      <th>Adj. Close</th>\n",
       "      <th>Normed Return</th>\n",
       "      <th>Allocation</th>\n",
       "      <th>Position Values</th>\n",
       "    </tr>\n",
       "    <tr>\n",
       "      <th>Date</th>\n",
       "      <th></th>\n",
       "      <th></th>\n",
       "      <th></th>\n",
       "      <th></th>\n",
       "    </tr>\n",
       "  </thead>\n",
       "  <tbody>\n",
       "    <tr>\n",
       "      <th>2016-12-23</th>\n",
       "      <td>29.475311</td>\n",
       "      <td>1.887345</td>\n",
       "      <td>0.377469</td>\n",
       "      <td>377469.015679</td>\n",
       "    </tr>\n",
       "    <tr>\n",
       "      <th>2016-12-27</th>\n",
       "      <td>29.620129</td>\n",
       "      <td>1.896618</td>\n",
       "      <td>0.379324</td>\n",
       "      <td>379323.596496</td>\n",
       "    </tr>\n",
       "    <tr>\n",
       "      <th>2016-12-28</th>\n",
       "      <td>29.369111</td>\n",
       "      <td>1.880545</td>\n",
       "      <td>0.376109</td>\n",
       "      <td>376108.989746</td>\n",
       "    </tr>\n",
       "    <tr>\n",
       "      <th>2016-12-29</th>\n",
       "      <td>29.407729</td>\n",
       "      <td>1.883018</td>\n",
       "      <td>0.376604</td>\n",
       "      <td>376603.544631</td>\n",
       "    </tr>\n",
       "    <tr>\n",
       "      <th>2016-12-30</th>\n",
       "      <td>29.176020</td>\n",
       "      <td>1.868181</td>\n",
       "      <td>0.373636</td>\n",
       "      <td>373636.215323</td>\n",
       "    </tr>\n",
       "  </tbody>\n",
       "</table>\n",
       "</div>"
      ],
      "text/plain": [
       "            Adj. Close  Normed Return  Allocation  Position Values\n",
       "Date                                                              \n",
       "2016-12-23   29.475311       1.887345    0.377469    377469.015679\n",
       "2016-12-27   29.620129       1.896618    0.379324    379323.596496\n",
       "2016-12-28   29.369111       1.880545    0.376109    376108.989746\n",
       "2016-12-29   29.407729       1.883018    0.376604    376603.544631\n",
       "2016-12-30   29.176020       1.868181    0.373636    373636.215323"
      ]
     },
     "execution_count": 20,
     "metadata": {},
     "output_type": "execute_result"
    }
   ],
   "source": [
    "cisco.tail()"
   ]
  },
  {
   "cell_type": "code",
   "execution_count": 21,
   "metadata": {},
   "outputs": [
    {
     "data": {
      "text/html": [
       "<div>\n",
       "<style scoped>\n",
       "    .dataframe tbody tr th:only-of-type {\n",
       "        vertical-align: middle;\n",
       "    }\n",
       "\n",
       "    .dataframe tbody tr th {\n",
       "        vertical-align: top;\n",
       "    }\n",
       "\n",
       "    .dataframe thead th {\n",
       "        text-align: right;\n",
       "    }\n",
       "</style>\n",
       "<table border=\"1\" class=\"dataframe\">\n",
       "  <thead>\n",
       "    <tr style=\"text-align: right;\">\n",
       "      <th></th>\n",
       "      <th>Adj. Close</th>\n",
       "      <th>Normed Return</th>\n",
       "      <th>Allocation</th>\n",
       "      <th>Position Values</th>\n",
       "    </tr>\n",
       "    <tr>\n",
       "      <th>Date</th>\n",
       "      <th></th>\n",
       "      <th></th>\n",
       "      <th></th>\n",
       "      <th></th>\n",
       "    </tr>\n",
       "  </thead>\n",
       "  <tbody>\n",
       "    <tr>\n",
       "      <th>2012-01-03</th>\n",
       "      <td>157.578371</td>\n",
       "      <td>1.000000</td>\n",
       "      <td>0.400000</td>\n",
       "      <td>400000.000000</td>\n",
       "    </tr>\n",
       "    <tr>\n",
       "      <th>2012-01-04</th>\n",
       "      <td>156.935540</td>\n",
       "      <td>0.995921</td>\n",
       "      <td>0.398368</td>\n",
       "      <td>398368.223296</td>\n",
       "    </tr>\n",
       "    <tr>\n",
       "      <th>2012-01-05</th>\n",
       "      <td>156.191208</td>\n",
       "      <td>0.991197</td>\n",
       "      <td>0.396479</td>\n",
       "      <td>396478.797638</td>\n",
       "    </tr>\n",
       "    <tr>\n",
       "      <th>2012-01-06</th>\n",
       "      <td>154.398046</td>\n",
       "      <td>0.979817</td>\n",
       "      <td>0.391927</td>\n",
       "      <td>391926.999463</td>\n",
       "    </tr>\n",
       "    <tr>\n",
       "      <th>2012-01-09</th>\n",
       "      <td>153.594506</td>\n",
       "      <td>0.974718</td>\n",
       "      <td>0.389887</td>\n",
       "      <td>389887.278583</td>\n",
       "    </tr>\n",
       "  </tbody>\n",
       "</table>\n",
       "</div>"
      ],
      "text/plain": [
       "            Adj. Close  Normed Return  Allocation  Position Values\n",
       "Date                                                              \n",
       "2012-01-03  157.578371       1.000000    0.400000    400000.000000\n",
       "2012-01-04  156.935540       0.995921    0.398368    398368.223296\n",
       "2012-01-05  156.191208       0.991197    0.396479    396478.797638\n",
       "2012-01-06  154.398046       0.979817    0.391927    391926.999463\n",
       "2012-01-09  153.594506       0.974718    0.389887    389887.278583"
      ]
     },
     "execution_count": 21,
     "metadata": {},
     "output_type": "execute_result"
    }
   ],
   "source": [
    "ibm.head()"
   ]
  },
  {
   "cell_type": "code",
   "execution_count": 22,
   "metadata": {},
   "outputs": [
    {
     "data": {
      "text/html": [
       "<div>\n",
       "<style scoped>\n",
       "    .dataframe tbody tr th:only-of-type {\n",
       "        vertical-align: middle;\n",
       "    }\n",
       "\n",
       "    .dataframe tbody tr th {\n",
       "        vertical-align: top;\n",
       "    }\n",
       "\n",
       "    .dataframe thead th {\n",
       "        text-align: right;\n",
       "    }\n",
       "</style>\n",
       "<table border=\"1\" class=\"dataframe\">\n",
       "  <thead>\n",
       "    <tr style=\"text-align: right;\">\n",
       "      <th></th>\n",
       "      <th>Adj. Close</th>\n",
       "      <th>Normed Return</th>\n",
       "      <th>Allocation</th>\n",
       "      <th>Position Values</th>\n",
       "    </tr>\n",
       "    <tr>\n",
       "      <th>Date</th>\n",
       "      <th></th>\n",
       "      <th></th>\n",
       "      <th></th>\n",
       "      <th></th>\n",
       "    </tr>\n",
       "  </thead>\n",
       "  <tbody>\n",
       "    <tr>\n",
       "      <th>2016-12-23</th>\n",
       "      <td>160.477796</td>\n",
       "      <td>1.018400</td>\n",
       "      <td>0.407360</td>\n",
       "      <td>407359.955612</td>\n",
       "    </tr>\n",
       "    <tr>\n",
       "      <th>2016-12-27</th>\n",
       "      <td>160.891721</td>\n",
       "      <td>1.021027</td>\n",
       "      <td>0.408411</td>\n",
       "      <td>408410.671112</td>\n",
       "    </tr>\n",
       "    <tr>\n",
       "      <th>2016-12-28</th>\n",
       "      <td>159.977235</td>\n",
       "      <td>1.015223</td>\n",
       "      <td>0.406089</td>\n",
       "      <td>406089.322915</td>\n",
       "    </tr>\n",
       "    <tr>\n",
       "      <th>2016-12-29</th>\n",
       "      <td>160.371908</td>\n",
       "      <td>1.017728</td>\n",
       "      <td>0.407091</td>\n",
       "      <td>407091.167926</td>\n",
       "    </tr>\n",
       "    <tr>\n",
       "      <th>2016-12-30</th>\n",
       "      <td>159.784712</td>\n",
       "      <td>1.014002</td>\n",
       "      <td>0.405601</td>\n",
       "      <td>405600.618032</td>\n",
       "    </tr>\n",
       "  </tbody>\n",
       "</table>\n",
       "</div>"
      ],
      "text/plain": [
       "            Adj. Close  Normed Return  Allocation  Position Values\n",
       "Date                                                              \n",
       "2016-12-23  160.477796       1.018400    0.407360    407359.955612\n",
       "2016-12-27  160.891721       1.021027    0.408411    408410.671112\n",
       "2016-12-28  159.977235       1.015223    0.406089    406089.322915\n",
       "2016-12-29  160.371908       1.017728    0.407091    407091.167926\n",
       "2016-12-30  159.784712       1.014002    0.405601    405600.618032"
      ]
     },
     "execution_count": 22,
     "metadata": {},
     "output_type": "execute_result"
    }
   ],
   "source": [
    "ibm.tail()"
   ]
  },
  {
   "cell_type": "code",
   "execution_count": 23,
   "metadata": {},
   "outputs": [
    {
     "data": {
      "text/html": [
       "<div>\n",
       "<style scoped>\n",
       "    .dataframe tbody tr th:only-of-type {\n",
       "        vertical-align: middle;\n",
       "    }\n",
       "\n",
       "    .dataframe tbody tr th {\n",
       "        vertical-align: top;\n",
       "    }\n",
       "\n",
       "    .dataframe thead th {\n",
       "        text-align: right;\n",
       "    }\n",
       "</style>\n",
       "<table border=\"1\" class=\"dataframe\">\n",
       "  <thead>\n",
       "    <tr style=\"text-align: right;\">\n",
       "      <th></th>\n",
       "      <th>Adj. Close</th>\n",
       "      <th>Normed Return</th>\n",
       "      <th>Allocation</th>\n",
       "      <th>Position Values</th>\n",
       "    </tr>\n",
       "    <tr>\n",
       "      <th>Date</th>\n",
       "      <th></th>\n",
       "      <th></th>\n",
       "      <th></th>\n",
       "      <th></th>\n",
       "    </tr>\n",
       "  </thead>\n",
       "  <tbody>\n",
       "    <tr>\n",
       "      <th>2012-01-03</th>\n",
       "      <td>179.03</td>\n",
       "      <td>1.000000</td>\n",
       "      <td>0.100000</td>\n",
       "      <td>100000.000000</td>\n",
       "    </tr>\n",
       "    <tr>\n",
       "      <th>2012-01-04</th>\n",
       "      <td>177.51</td>\n",
       "      <td>0.991510</td>\n",
       "      <td>0.099151</td>\n",
       "      <td>99150.980283</td>\n",
       "    </tr>\n",
       "    <tr>\n",
       "      <th>2012-01-05</th>\n",
       "      <td>177.61</td>\n",
       "      <td>0.992068</td>\n",
       "      <td>0.099207</td>\n",
       "      <td>99206.836843</td>\n",
       "    </tr>\n",
       "    <tr>\n",
       "      <th>2012-01-06</th>\n",
       "      <td>182.61</td>\n",
       "      <td>1.019997</td>\n",
       "      <td>0.102000</td>\n",
       "      <td>101999.664861</td>\n",
       "    </tr>\n",
       "    <tr>\n",
       "      <th>2012-01-09</th>\n",
       "      <td>178.56</td>\n",
       "      <td>0.997375</td>\n",
       "      <td>0.099737</td>\n",
       "      <td>99737.474166</td>\n",
       "    </tr>\n",
       "  </tbody>\n",
       "</table>\n",
       "</div>"
      ],
      "text/plain": [
       "            Adj. Close  Normed Return  Allocation  Position Values\n",
       "Date                                                              \n",
       "2012-01-03      179.03       1.000000    0.100000    100000.000000\n",
       "2012-01-04      177.51       0.991510    0.099151     99150.980283\n",
       "2012-01-05      177.61       0.992068    0.099207     99206.836843\n",
       "2012-01-06      182.61       1.019997    0.102000    101999.664861\n",
       "2012-01-09      178.56       0.997375    0.099737     99737.474166"
      ]
     },
     "execution_count": 23,
     "metadata": {},
     "output_type": "execute_result"
    }
   ],
   "source": [
    "amzn.head()"
   ]
  },
  {
   "cell_type": "code",
   "execution_count": 24,
   "metadata": {},
   "outputs": [
    {
     "data": {
      "text/html": [
       "<div>\n",
       "<style scoped>\n",
       "    .dataframe tbody tr th:only-of-type {\n",
       "        vertical-align: middle;\n",
       "    }\n",
       "\n",
       "    .dataframe tbody tr th {\n",
       "        vertical-align: top;\n",
       "    }\n",
       "\n",
       "    .dataframe thead th {\n",
       "        text-align: right;\n",
       "    }\n",
       "</style>\n",
       "<table border=\"1\" class=\"dataframe\">\n",
       "  <thead>\n",
       "    <tr style=\"text-align: right;\">\n",
       "      <th></th>\n",
       "      <th>Adj. Close</th>\n",
       "      <th>Normed Return</th>\n",
       "      <th>Allocation</th>\n",
       "      <th>Position Values</th>\n",
       "    </tr>\n",
       "    <tr>\n",
       "      <th>Date</th>\n",
       "      <th></th>\n",
       "      <th></th>\n",
       "      <th></th>\n",
       "      <th></th>\n",
       "    </tr>\n",
       "  </thead>\n",
       "  <tbody>\n",
       "    <tr>\n",
       "      <th>2016-12-23</th>\n",
       "      <td>760.59</td>\n",
       "      <td>4.248394</td>\n",
       "      <td>0.424839</td>\n",
       "      <td>424839.412389</td>\n",
       "    </tr>\n",
       "    <tr>\n",
       "      <th>2016-12-27</th>\n",
       "      <td>771.40</td>\n",
       "      <td>4.308775</td>\n",
       "      <td>0.430878</td>\n",
       "      <td>430877.506563</td>\n",
       "    </tr>\n",
       "    <tr>\n",
       "      <th>2016-12-28</th>\n",
       "      <td>772.13</td>\n",
       "      <td>4.312853</td>\n",
       "      <td>0.431285</td>\n",
       "      <td>431285.259454</td>\n",
       "    </tr>\n",
       "    <tr>\n",
       "      <th>2016-12-29</th>\n",
       "      <td>765.15</td>\n",
       "      <td>4.273865</td>\n",
       "      <td>0.427386</td>\n",
       "      <td>427386.471541</td>\n",
       "    </tr>\n",
       "    <tr>\n",
       "      <th>2016-12-30</th>\n",
       "      <td>749.87</td>\n",
       "      <td>4.188516</td>\n",
       "      <td>0.418852</td>\n",
       "      <td>418851.589119</td>\n",
       "    </tr>\n",
       "  </tbody>\n",
       "</table>\n",
       "</div>"
      ],
      "text/plain": [
       "            Adj. Close  Normed Return  Allocation  Position Values\n",
       "Date                                                              \n",
       "2016-12-23      760.59       4.248394    0.424839    424839.412389\n",
       "2016-12-27      771.40       4.308775    0.430878    430877.506563\n",
       "2016-12-28      772.13       4.312853    0.431285    431285.259454\n",
       "2016-12-29      765.15       4.273865    0.427386    427386.471541\n",
       "2016-12-30      749.87       4.188516    0.418852    418851.589119"
      ]
     },
     "execution_count": 24,
     "metadata": {},
     "output_type": "execute_result"
    }
   ],
   "source": [
    "amzn.tail()"
   ]
  },
  {
   "cell_type": "code",
   "execution_count": 25,
   "metadata": {},
   "outputs": [],
   "source": [
    "all_pos_vals = [aapl['Position Values'],cisco['Position Values'],ibm['Position Values'],amzn['Position Values']]\n",
    "\n",
    "\n",
    "\n",
    "portfolio_val = pd.concat(all_pos_vals, axis=1)"
   ]
  },
  {
   "cell_type": "code",
   "execution_count": 26,
   "metadata": {},
   "outputs": [
    {
     "data": {
      "text/html": [
       "<div>\n",
       "<style scoped>\n",
       "    .dataframe tbody tr th:only-of-type {\n",
       "        vertical-align: middle;\n",
       "    }\n",
       "\n",
       "    .dataframe tbody tr th {\n",
       "        vertical-align: top;\n",
       "    }\n",
       "\n",
       "    .dataframe thead th {\n",
       "        text-align: right;\n",
       "    }\n",
       "</style>\n",
       "<table border=\"1\" class=\"dataframe\">\n",
       "  <thead>\n",
       "    <tr style=\"text-align: right;\">\n",
       "      <th></th>\n",
       "      <th>Position Values</th>\n",
       "      <th>Position Values</th>\n",
       "      <th>Position Values</th>\n",
       "      <th>Position Values</th>\n",
       "    </tr>\n",
       "    <tr>\n",
       "      <th>Date</th>\n",
       "      <th></th>\n",
       "      <th></th>\n",
       "      <th></th>\n",
       "      <th></th>\n",
       "    </tr>\n",
       "  </thead>\n",
       "  <tbody>\n",
       "    <tr>\n",
       "      <th>2012-01-03</th>\n",
       "      <td>300000.0000</td>\n",
       "      <td>200000.000000</td>\n",
       "      <td>400000.000000</td>\n",
       "      <td>100000.000000</td>\n",
       "    </tr>\n",
       "    <tr>\n",
       "      <th>2012-01-04</th>\n",
       "      <td>294726.5625</td>\n",
       "      <td>203864.734300</td>\n",
       "      <td>398368.223296</td>\n",
       "      <td>99150.980283</td>\n",
       "    </tr>\n",
       "    <tr>\n",
       "      <th>2012-01-05</th>\n",
       "      <td>320507.8125</td>\n",
       "      <td>203113.258186</td>\n",
       "      <td>396478.797638</td>\n",
       "      <td>99206.836843</td>\n",
       "    </tr>\n",
       "    <tr>\n",
       "      <th>2012-01-06</th>\n",
       "      <td>328125.0000</td>\n",
       "      <td>202361.782072</td>\n",
       "      <td>391926.999463</td>\n",
       "      <td>101999.664861</td>\n",
       "    </tr>\n",
       "    <tr>\n",
       "      <th>2012-01-09</th>\n",
       "      <td>335156.2500</td>\n",
       "      <td>203650.026838</td>\n",
       "      <td>389887.278583</td>\n",
       "      <td>99737.474166</td>\n",
       "    </tr>\n",
       "  </tbody>\n",
       "</table>\n",
       "</div>"
      ],
      "text/plain": [
       "            Position Values  Position Values  Position Values  Position Values\n",
       "Date                                                                          \n",
       "2012-01-03      300000.0000    200000.000000    400000.000000    100000.000000\n",
       "2012-01-04      294726.5625    203864.734300    398368.223296     99150.980283\n",
       "2012-01-05      320507.8125    203113.258186    396478.797638     99206.836843\n",
       "2012-01-06      328125.0000    202361.782072    391926.999463    101999.664861\n",
       "2012-01-09      335156.2500    203650.026838    389887.278583     99737.474166"
      ]
     },
     "execution_count": 26,
     "metadata": {},
     "output_type": "execute_result"
    }
   ],
   "source": [
    "portfolio_val.head()"
   ]
  },
  {
   "cell_type": "code",
   "execution_count": 27,
   "metadata": {},
   "outputs": [],
   "source": [
    "portfolio_val.columns = ['AAPL POS','CISCO POS','IBM POS','AMZN POS']"
   ]
  },
  {
   "cell_type": "code",
   "execution_count": 28,
   "metadata": {},
   "outputs": [
    {
     "data": {
      "text/html": [
       "<div>\n",
       "<style scoped>\n",
       "    .dataframe tbody tr th:only-of-type {\n",
       "        vertical-align: middle;\n",
       "    }\n",
       "\n",
       "    .dataframe tbody tr th {\n",
       "        vertical-align: top;\n",
       "    }\n",
       "\n",
       "    .dataframe thead th {\n",
       "        text-align: right;\n",
       "    }\n",
       "</style>\n",
       "<table border=\"1\" class=\"dataframe\">\n",
       "  <thead>\n",
       "    <tr style=\"text-align: right;\">\n",
       "      <th></th>\n",
       "      <th>AAPL POS</th>\n",
       "      <th>CISCO POS</th>\n",
       "      <th>IBM POS</th>\n",
       "      <th>AMZN POS</th>\n",
       "    </tr>\n",
       "    <tr>\n",
       "      <th>Date</th>\n",
       "      <th></th>\n",
       "      <th></th>\n",
       "      <th></th>\n",
       "      <th></th>\n",
       "    </tr>\n",
       "  </thead>\n",
       "  <tbody>\n",
       "    <tr>\n",
       "      <th>2012-01-03</th>\n",
       "      <td>300000.0000</td>\n",
       "      <td>200000.000000</td>\n",
       "      <td>400000.000000</td>\n",
       "      <td>100000.000000</td>\n",
       "    </tr>\n",
       "    <tr>\n",
       "      <th>2012-01-04</th>\n",
       "      <td>294726.5625</td>\n",
       "      <td>203864.734300</td>\n",
       "      <td>398368.223296</td>\n",
       "      <td>99150.980283</td>\n",
       "    </tr>\n",
       "    <tr>\n",
       "      <th>2012-01-05</th>\n",
       "      <td>320507.8125</td>\n",
       "      <td>203113.258186</td>\n",
       "      <td>396478.797638</td>\n",
       "      <td>99206.836843</td>\n",
       "    </tr>\n",
       "    <tr>\n",
       "      <th>2012-01-06</th>\n",
       "      <td>328125.0000</td>\n",
       "      <td>202361.782072</td>\n",
       "      <td>391926.999463</td>\n",
       "      <td>101999.664861</td>\n",
       "    </tr>\n",
       "    <tr>\n",
       "      <th>2012-01-09</th>\n",
       "      <td>335156.2500</td>\n",
       "      <td>203650.026838</td>\n",
       "      <td>389887.278583</td>\n",
       "      <td>99737.474166</td>\n",
       "    </tr>\n",
       "  </tbody>\n",
       "</table>\n",
       "</div>"
      ],
      "text/plain": [
       "               AAPL POS      CISCO POS        IBM POS       AMZN POS\n",
       "Date                                                                \n",
       "2012-01-03  300000.0000  200000.000000  400000.000000  100000.000000\n",
       "2012-01-04  294726.5625  203864.734300  398368.223296   99150.980283\n",
       "2012-01-05  320507.8125  203113.258186  396478.797638   99206.836843\n",
       "2012-01-06  328125.0000  202361.782072  391926.999463  101999.664861\n",
       "2012-01-09  335156.2500  203650.026838  389887.278583   99737.474166"
      ]
     },
     "execution_count": 28,
     "metadata": {},
     "output_type": "execute_result"
    }
   ],
   "source": [
    "portfolio_val.head()"
   ]
  },
  {
   "cell_type": "code",
   "execution_count": 29,
   "metadata": {},
   "outputs": [
    {
     "data": {
      "text/html": [
       "<div>\n",
       "<style scoped>\n",
       "    .dataframe tbody tr th:only-of-type {\n",
       "        vertical-align: middle;\n",
       "    }\n",
       "\n",
       "    .dataframe tbody tr th {\n",
       "        vertical-align: top;\n",
       "    }\n",
       "\n",
       "    .dataframe thead th {\n",
       "        text-align: right;\n",
       "    }\n",
       "</style>\n",
       "<table border=\"1\" class=\"dataframe\">\n",
       "  <thead>\n",
       "    <tr style=\"text-align: right;\">\n",
       "      <th></th>\n",
       "      <th>AAPL POS</th>\n",
       "      <th>CISCO POS</th>\n",
       "      <th>IBM POS</th>\n",
       "      <th>AMZN POS</th>\n",
       "    </tr>\n",
       "    <tr>\n",
       "      <th>Date</th>\n",
       "      <th></th>\n",
       "      <th></th>\n",
       "      <th></th>\n",
       "      <th></th>\n",
       "    </tr>\n",
       "  </thead>\n",
       "  <tbody>\n",
       "    <tr>\n",
       "      <th>2016-12-23</th>\n",
       "      <td>1.086277e+06</td>\n",
       "      <td>377469.015679</td>\n",
       "      <td>407359.955612</td>\n",
       "      <td>424839.412389</td>\n",
       "    </tr>\n",
       "    <tr>\n",
       "      <th>2016-12-27</th>\n",
       "      <td>1.089189e+06</td>\n",
       "      <td>379323.596496</td>\n",
       "      <td>408410.671112</td>\n",
       "      <td>430877.506563</td>\n",
       "    </tr>\n",
       "    <tr>\n",
       "      <th>2016-12-28</th>\n",
       "      <td>1.068127e+06</td>\n",
       "      <td>376108.989746</td>\n",
       "      <td>406089.322915</td>\n",
       "      <td>431285.259454</td>\n",
       "    </tr>\n",
       "    <tr>\n",
       "      <th>2016-12-29</th>\n",
       "      <td>1.058716e+06</td>\n",
       "      <td>376603.544631</td>\n",
       "      <td>407091.167926</td>\n",
       "      <td>427386.471541</td>\n",
       "    </tr>\n",
       "    <tr>\n",
       "      <th>2016-12-30</th>\n",
       "      <td>1.046169e+06</td>\n",
       "      <td>373636.215323</td>\n",
       "      <td>405600.618032</td>\n",
       "      <td>418851.589119</td>\n",
       "    </tr>\n",
       "  </tbody>\n",
       "</table>\n",
       "</div>"
      ],
      "text/plain": [
       "                AAPL POS      CISCO POS        IBM POS       AMZN POS\n",
       "Date                                                                 \n",
       "2016-12-23  1.086277e+06  377469.015679  407359.955612  424839.412389\n",
       "2016-12-27  1.089189e+06  379323.596496  408410.671112  430877.506563\n",
       "2016-12-28  1.068127e+06  376108.989746  406089.322915  431285.259454\n",
       "2016-12-29  1.058716e+06  376603.544631  407091.167926  427386.471541\n",
       "2016-12-30  1.046169e+06  373636.215323  405600.618032  418851.589119"
      ]
     },
     "execution_count": 29,
     "metadata": {},
     "output_type": "execute_result"
    }
   ],
   "source": [
    "portfolio_val.tail()"
   ]
  },
  {
   "cell_type": "code",
   "execution_count": 30,
   "metadata": {},
   "outputs": [],
   "source": [
    "portfolio_val['TOTAL POS'] = portfolio_val.sum(axis=1)"
   ]
  },
  {
   "cell_type": "code",
   "execution_count": 31,
   "metadata": {},
   "outputs": [
    {
     "data": {
      "text/html": [
       "<div>\n",
       "<style scoped>\n",
       "    .dataframe tbody tr th:only-of-type {\n",
       "        vertical-align: middle;\n",
       "    }\n",
       "\n",
       "    .dataframe tbody tr th {\n",
       "        vertical-align: top;\n",
       "    }\n",
       "\n",
       "    .dataframe thead th {\n",
       "        text-align: right;\n",
       "    }\n",
       "</style>\n",
       "<table border=\"1\" class=\"dataframe\">\n",
       "  <thead>\n",
       "    <tr style=\"text-align: right;\">\n",
       "      <th></th>\n",
       "      <th>AAPL POS</th>\n",
       "      <th>CISCO POS</th>\n",
       "      <th>IBM POS</th>\n",
       "      <th>AMZN POS</th>\n",
       "      <th>TOTAL POS</th>\n",
       "    </tr>\n",
       "    <tr>\n",
       "      <th>Date</th>\n",
       "      <th></th>\n",
       "      <th></th>\n",
       "      <th></th>\n",
       "      <th></th>\n",
       "      <th></th>\n",
       "    </tr>\n",
       "  </thead>\n",
       "  <tbody>\n",
       "    <tr>\n",
       "      <th>2012-01-03</th>\n",
       "      <td>300000.0000</td>\n",
       "      <td>200000.000000</td>\n",
       "      <td>400000.000000</td>\n",
       "      <td>100000.000000</td>\n",
       "      <td>1.000000e+06</td>\n",
       "    </tr>\n",
       "    <tr>\n",
       "      <th>2012-01-04</th>\n",
       "      <td>294726.5625</td>\n",
       "      <td>203864.734300</td>\n",
       "      <td>398368.223296</td>\n",
       "      <td>99150.980283</td>\n",
       "      <td>9.961105e+05</td>\n",
       "    </tr>\n",
       "    <tr>\n",
       "      <th>2012-01-05</th>\n",
       "      <td>320507.8125</td>\n",
       "      <td>203113.258186</td>\n",
       "      <td>396478.797638</td>\n",
       "      <td>99206.836843</td>\n",
       "      <td>1.019307e+06</td>\n",
       "    </tr>\n",
       "    <tr>\n",
       "      <th>2012-01-06</th>\n",
       "      <td>328125.0000</td>\n",
       "      <td>202361.782072</td>\n",
       "      <td>391926.999463</td>\n",
       "      <td>101999.664861</td>\n",
       "      <td>1.024413e+06</td>\n",
       "    </tr>\n",
       "    <tr>\n",
       "      <th>2012-01-09</th>\n",
       "      <td>335156.2500</td>\n",
       "      <td>203650.026838</td>\n",
       "      <td>389887.278583</td>\n",
       "      <td>99737.474166</td>\n",
       "      <td>1.028431e+06</td>\n",
       "    </tr>\n",
       "  </tbody>\n",
       "</table>\n",
       "</div>"
      ],
      "text/plain": [
       "               AAPL POS      CISCO POS        IBM POS       AMZN POS  \\\n",
       "Date                                                                   \n",
       "2012-01-03  300000.0000  200000.000000  400000.000000  100000.000000   \n",
       "2012-01-04  294726.5625  203864.734300  398368.223296   99150.980283   \n",
       "2012-01-05  320507.8125  203113.258186  396478.797638   99206.836843   \n",
       "2012-01-06  328125.0000  202361.782072  391926.999463  101999.664861   \n",
       "2012-01-09  335156.2500  203650.026838  389887.278583   99737.474166   \n",
       "\n",
       "               TOTAL POS  \n",
       "Date                      \n",
       "2012-01-03  1.000000e+06  \n",
       "2012-01-04  9.961105e+05  \n",
       "2012-01-05  1.019307e+06  \n",
       "2012-01-06  1.024413e+06  \n",
       "2012-01-09  1.028431e+06  "
      ]
     },
     "execution_count": 31,
     "metadata": {},
     "output_type": "execute_result"
    }
   ],
   "source": [
    "portfolio_val.head()"
   ]
  },
  {
   "cell_type": "code",
   "execution_count": 32,
   "metadata": {},
   "outputs": [
    {
     "data": {
      "text/html": [
       "<div>\n",
       "<style scoped>\n",
       "    .dataframe tbody tr th:only-of-type {\n",
       "        vertical-align: middle;\n",
       "    }\n",
       "\n",
       "    .dataframe tbody tr th {\n",
       "        vertical-align: top;\n",
       "    }\n",
       "\n",
       "    .dataframe thead th {\n",
       "        text-align: right;\n",
       "    }\n",
       "</style>\n",
       "<table border=\"1\" class=\"dataframe\">\n",
       "  <thead>\n",
       "    <tr style=\"text-align: right;\">\n",
       "      <th></th>\n",
       "      <th>AAPL POS</th>\n",
       "      <th>CISCO POS</th>\n",
       "      <th>IBM POS</th>\n",
       "      <th>AMZN POS</th>\n",
       "      <th>TOTAL POS</th>\n",
       "    </tr>\n",
       "    <tr>\n",
       "      <th>Date</th>\n",
       "      <th></th>\n",
       "      <th></th>\n",
       "      <th></th>\n",
       "      <th></th>\n",
       "      <th></th>\n",
       "    </tr>\n",
       "  </thead>\n",
       "  <tbody>\n",
       "    <tr>\n",
       "      <th>2016-12-23</th>\n",
       "      <td>1.086277e+06</td>\n",
       "      <td>377469.015679</td>\n",
       "      <td>407359.955612</td>\n",
       "      <td>424839.412389</td>\n",
       "      <td>2.295945e+06</td>\n",
       "    </tr>\n",
       "    <tr>\n",
       "      <th>2016-12-27</th>\n",
       "      <td>1.089189e+06</td>\n",
       "      <td>379323.596496</td>\n",
       "      <td>408410.671112</td>\n",
       "      <td>430877.506563</td>\n",
       "      <td>2.307801e+06</td>\n",
       "    </tr>\n",
       "    <tr>\n",
       "      <th>2016-12-28</th>\n",
       "      <td>1.068127e+06</td>\n",
       "      <td>376108.989746</td>\n",
       "      <td>406089.322915</td>\n",
       "      <td>431285.259454</td>\n",
       "      <td>2.281611e+06</td>\n",
       "    </tr>\n",
       "    <tr>\n",
       "      <th>2016-12-29</th>\n",
       "      <td>1.058716e+06</td>\n",
       "      <td>376603.544631</td>\n",
       "      <td>407091.167926</td>\n",
       "      <td>427386.471541</td>\n",
       "      <td>2.269797e+06</td>\n",
       "    </tr>\n",
       "    <tr>\n",
       "      <th>2016-12-30</th>\n",
       "      <td>1.046169e+06</td>\n",
       "      <td>373636.215323</td>\n",
       "      <td>405600.618032</td>\n",
       "      <td>418851.589119</td>\n",
       "      <td>2.244257e+06</td>\n",
       "    </tr>\n",
       "  </tbody>\n",
       "</table>\n",
       "</div>"
      ],
      "text/plain": [
       "                AAPL POS      CISCO POS        IBM POS       AMZN POS  \\\n",
       "Date                                                                    \n",
       "2016-12-23  1.086277e+06  377469.015679  407359.955612  424839.412389   \n",
       "2016-12-27  1.089189e+06  379323.596496  408410.671112  430877.506563   \n",
       "2016-12-28  1.068127e+06  376108.989746  406089.322915  431285.259454   \n",
       "2016-12-29  1.058716e+06  376603.544631  407091.167926  427386.471541   \n",
       "2016-12-30  1.046169e+06  373636.215323  405600.618032  418851.589119   \n",
       "\n",
       "               TOTAL POS  \n",
       "Date                      \n",
       "2016-12-23  2.295945e+06  \n",
       "2016-12-27  2.307801e+06  \n",
       "2016-12-28  2.281611e+06  \n",
       "2016-12-29  2.269797e+06  \n",
       "2016-12-30  2.244257e+06  "
      ]
     },
     "execution_count": 32,
     "metadata": {},
     "output_type": "execute_result"
    }
   ],
   "source": [
    "portfolio_val.tail()"
   ]
  },
  {
   "cell_type": "code",
   "execution_count": 33,
   "metadata": {},
   "outputs": [],
   "source": [
    "import matplotlib.pyplot as plt\n",
    "%matplotlib inline"
   ]
  },
  {
   "cell_type": "code",
   "execution_count": 34,
   "metadata": {},
   "outputs": [
    {
     "data": {
      "image/png": "[encoded data removed]",
      "text/plain": [
       "<Figure size 1440x720 with 1 Axes>"
      ]
     },
     "metadata": {
      "needs_background": "light"
     },
     "output_type": "display_data"
    }
   ],
   "source": [
    "portfolio_val['TOTAL POS'].plot(figsize=(20,10))\n",
    "plt.title('\\nTOTAL RETURNS\\n');"
   ]
  },
  {
   "cell_type": "code",
   "execution_count": 35,
   "metadata": {},
   "outputs": [
    {
     "data": {
      "image/png": "[encoded data removed]",
      "text/plain": [
       "<Figure size 1440x720 with 1 Axes>"
      ]
     },
     "metadata": {
      "needs_background": "light"
     },
     "output_type": "display_data"
    }
   ],
   "source": [
    "portfolio_val.drop('TOTAL POS',axis=1).plot(figsize=(20,10));"
   ]
  },
  {
   "cell_type": "code",
   "execution_count": 36,
   "metadata": {
    "scrolled": false
   },
   "outputs": [
    {
     "data": {
      "image/png": "[encoded data removed]",
      "text/plain": [
       "<Figure size 1440x1008 with 1 Axes>"
      ]
     },
     "metadata": {
      "needs_background": "light"
     },
     "output_type": "display_data"
    }
   ],
   "source": [
    "portfolio_val['TOTAL POS'].plot(figsize=(20,14))\n",
    "portfolio_val['AMZN POS'].plot()\n",
    "plt.legend();"
   ]
  },
  {
   "cell_type": "code",
   "execution_count": 37,
   "metadata": {},
   "outputs": [
    {
     "data": {
      "text/plain": [
       "1087309382.1441045"
      ]
     },
     "execution_count": 37,
     "metadata": {},
     "output_type": "execute_result"
    }
   ],
   "source": [
    "portfolio_val['AAPL POS'].sum()"
   ]
  },
  {
   "cell_type": "code",
   "execution_count": 38,
   "metadata": {},
   "outputs": [
    {
     "data": {
      "text/plain": [
       "499592379.1482959"
      ]
     },
     "execution_count": 38,
     "metadata": {},
     "output_type": "execute_result"
    }
   ],
   "source": [
    "portfolio_val['IBM POS'].sum()"
   ]
  },
  {
   "cell_type": "code",
   "execution_count": 39,
   "metadata": {},
   "outputs": [
    {
     "data": {
      "text/plain": [
       "355210274.55686176"
      ]
     },
     "execution_count": 39,
     "metadata": {},
     "output_type": "execute_result"
    }
   ],
   "source": [
    "portfolio_val['CISCO POS'].sum()"
   ]
  },
  {
   "cell_type": "code",
   "execution_count": 40,
   "metadata": {},
   "outputs": [
    {
     "data": {
      "text/plain": [
       "285289237.5020946"
      ]
     },
     "execution_count": 40,
     "metadata": {},
     "output_type": "execute_result"
    }
   ],
   "source": [
    "portfolio_val['AMZN POS'].sum()"
   ]
  },
  {
   "cell_type": "code",
   "execution_count": 41,
   "metadata": {},
   "outputs": [
    {
     "data": {
      "text/plain": [
       "2227401273.351357"
      ]
     },
     "execution_count": 41,
     "metadata": {},
     "output_type": "execute_result"
    }
   ],
   "source": [
    "portfolio_val['TOTAL POS'].sum()"
   ]
  },
  {
   "cell_type": "markdown",
   "metadata": {},
   "source": [
    "### Portfolio Stats"
   ]
  },
  {
   "cell_type": "code",
   "execution_count": 42,
   "metadata": {},
   "outputs": [
    {
     "data": {
      "text/html": [
       "<div>\n",
       "<style scoped>\n",
       "    .dataframe tbody tr th:only-of-type {\n",
       "        vertical-align: middle;\n",
       "    }\n",
       "\n",
       "    .dataframe tbody tr th {\n",
       "        vertical-align: top;\n",
       "    }\n",
       "\n",
       "    .dataframe thead th {\n",
       "        text-align: right;\n",
       "    }\n",
       "</style>\n",
       "<table border=\"1\" class=\"dataframe\">\n",
       "  <thead>\n",
       "    <tr style=\"text-align: right;\">\n",
       "      <th></th>\n",
       "      <th>AAPL POS</th>\n",
       "      <th>CISCO POS</th>\n",
       "      <th>IBM POS</th>\n",
       "      <th>AMZN POS</th>\n",
       "      <th>TOTAL POS</th>\n",
       "    </tr>\n",
       "    <tr>\n",
       "      <th>Date</th>\n",
       "      <th></th>\n",
       "      <th></th>\n",
       "      <th></th>\n",
       "      <th></th>\n",
       "      <th></th>\n",
       "    </tr>\n",
       "  </thead>\n",
       "  <tbody>\n",
       "    <tr>\n",
       "      <th>2012-01-03</th>\n",
       "      <td>300000.0000</td>\n",
       "      <td>200000.000000</td>\n",
       "      <td>400000.000000</td>\n",
       "      <td>100000.000000</td>\n",
       "      <td>1.000000e+06</td>\n",
       "    </tr>\n",
       "    <tr>\n",
       "      <th>2012-01-04</th>\n",
       "      <td>294726.5625</td>\n",
       "      <td>203864.734300</td>\n",
       "      <td>398368.223296</td>\n",
       "      <td>99150.980283</td>\n",
       "      <td>9.961105e+05</td>\n",
       "    </tr>\n",
       "    <tr>\n",
       "      <th>2012-01-05</th>\n",
       "      <td>320507.8125</td>\n",
       "      <td>203113.258186</td>\n",
       "      <td>396478.797638</td>\n",
       "      <td>99206.836843</td>\n",
       "      <td>1.019307e+06</td>\n",
       "    </tr>\n",
       "    <tr>\n",
       "      <th>2012-01-06</th>\n",
       "      <td>328125.0000</td>\n",
       "      <td>202361.782072</td>\n",
       "      <td>391926.999463</td>\n",
       "      <td>101999.664861</td>\n",
       "      <td>1.024413e+06</td>\n",
       "    </tr>\n",
       "    <tr>\n",
       "      <th>2012-01-09</th>\n",
       "      <td>335156.2500</td>\n",
       "      <td>203650.026838</td>\n",
       "      <td>389887.278583</td>\n",
       "      <td>99737.474166</td>\n",
       "      <td>1.028431e+06</td>\n",
       "    </tr>\n",
       "  </tbody>\n",
       "</table>\n",
       "</div>"
      ],
      "text/plain": [
       "               AAPL POS      CISCO POS        IBM POS       AMZN POS  \\\n",
       "Date                                                                   \n",
       "2012-01-03  300000.0000  200000.000000  400000.000000  100000.000000   \n",
       "2012-01-04  294726.5625  203864.734300  398368.223296   99150.980283   \n",
       "2012-01-05  320507.8125  203113.258186  396478.797638   99206.836843   \n",
       "2012-01-06  328125.0000  202361.782072  391926.999463  101999.664861   \n",
       "2012-01-09  335156.2500  203650.026838  389887.278583   99737.474166   \n",
       "\n",
       "               TOTAL POS  \n",
       "Date                      \n",
       "2012-01-03  1.000000e+06  \n",
       "2012-01-04  9.961105e+05  \n",
       "2012-01-05  1.019307e+06  \n",
       "2012-01-06  1.024413e+06  \n",
       "2012-01-09  1.028431e+06  "
      ]
     },
     "execution_count": 42,
     "metadata": {},
     "output_type": "execute_result"
    }
   ],
   "source": [
    "portfolio_val.head()"
   ]
  },
  {
   "cell_type": "code",
   "execution_count": 45,
   "metadata": {},
   "outputs": [],
   "source": [
    "portfolio_val['Daily Return'] = portfolio_val['TOTAL POS'].pct_change(1)"
   ]
  },
  {
   "cell_type": "code",
   "execution_count": 46,
   "metadata": {},
   "outputs": [
    {
     "data": {
      "text/html": [
       "<div>\n",
       "<style scoped>\n",
       "    .dataframe tbody tr th:only-of-type {\n",
       "        vertical-align: middle;\n",
       "    }\n",
       "\n",
       "    .dataframe tbody tr th {\n",
       "        vertical-align: top;\n",
       "    }\n",
       "\n",
       "    .dataframe thead th {\n",
       "        text-align: right;\n",
       "    }\n",
       "</style>\n",
       "<table border=\"1\" class=\"dataframe\">\n",
       "  <thead>\n",
       "    <tr style=\"text-align: right;\">\n",
       "      <th></th>\n",
       "      <th>AAPL POS</th>\n",
       "      <th>CISCO POS</th>\n",
       "      <th>IBM POS</th>\n",
       "      <th>AMZN POS</th>\n",
       "      <th>TOTAL POS</th>\n",
       "      <th>Daily Return</th>\n",
       "    </tr>\n",
       "    <tr>\n",
       "      <th>Date</th>\n",
       "      <th></th>\n",
       "      <th></th>\n",
       "      <th></th>\n",
       "      <th></th>\n",
       "      <th></th>\n",
       "      <th></th>\n",
       "    </tr>\n",
       "  </thead>\n",
       "  <tbody>\n",
       "    <tr>\n",
       "      <th>2012-01-03</th>\n",
       "      <td>300000.0000</td>\n",
       "      <td>200000.000000</td>\n",
       "      <td>400000.000000</td>\n",
       "      <td>100000.000000</td>\n",
       "      <td>1.000000e+06</td>\n",
       "      <td>NaN</td>\n",
       "    </tr>\n",
       "    <tr>\n",
       "      <th>2012-01-04</th>\n",
       "      <td>294726.5625</td>\n",
       "      <td>203864.734300</td>\n",
       "      <td>398368.223296</td>\n",
       "      <td>99150.980283</td>\n",
       "      <td>9.961105e+05</td>\n",
       "      <td>-0.003889</td>\n",
       "    </tr>\n",
       "    <tr>\n",
       "      <th>2012-01-05</th>\n",
       "      <td>320507.8125</td>\n",
       "      <td>203113.258186</td>\n",
       "      <td>396478.797638</td>\n",
       "      <td>99206.836843</td>\n",
       "      <td>1.019307e+06</td>\n",
       "      <td>0.023287</td>\n",
       "    </tr>\n",
       "    <tr>\n",
       "      <th>2012-01-06</th>\n",
       "      <td>328125.0000</td>\n",
       "      <td>202361.782072</td>\n",
       "      <td>391926.999463</td>\n",
       "      <td>101999.664861</td>\n",
       "      <td>1.024413e+06</td>\n",
       "      <td>0.005010</td>\n",
       "    </tr>\n",
       "    <tr>\n",
       "      <th>2012-01-09</th>\n",
       "      <td>335156.2500</td>\n",
       "      <td>203650.026838</td>\n",
       "      <td>389887.278583</td>\n",
       "      <td>99737.474166</td>\n",
       "      <td>1.028431e+06</td>\n",
       "      <td>0.003922</td>\n",
       "    </tr>\n",
       "  </tbody>\n",
       "</table>\n",
       "</div>"
      ],
      "text/plain": [
       "               AAPL POS      CISCO POS        IBM POS       AMZN POS  \\\n",
       "Date                                                                   \n",
       "2012-01-03  300000.0000  200000.000000  400000.000000  100000.000000   \n",
       "2012-01-04  294726.5625  203864.734300  398368.223296   99150.980283   \n",
       "2012-01-05  320507.8125  203113.258186  396478.797638   99206.836843   \n",
       "2012-01-06  328125.0000  202361.782072  391926.999463  101999.664861   \n",
       "2012-01-09  335156.2500  203650.026838  389887.278583   99737.474166   \n",
       "\n",
       "               TOTAL POS  Daily Return  \n",
       "Date                                    \n",
       "2012-01-03  1.000000e+06           NaN  \n",
       "2012-01-04  9.961105e+05     -0.003889  \n",
       "2012-01-05  1.019307e+06      0.023287  \n",
       "2012-01-06  1.024413e+06      0.005010  \n",
       "2012-01-09  1.028431e+06      0.003922  "
      ]
     },
     "execution_count": 46,
     "metadata": {},
     "output_type": "execute_result"
    }
   ],
   "source": [
    "portfolio_val.head()"
   ]
  },
  {
   "cell_type": "code",
   "execution_count": 47,
   "metadata": {},
   "outputs": [
    {
     "data": {
      "text/plain": [
       "0.0008220822523777833"
      ]
     },
     "execution_count": 47,
     "metadata": {},
     "output_type": "execute_result"
    }
   ],
   "source": [
    "portfolio_val['Daily Return'].mean()"
   ]
  },
  {
   "cell_type": "code",
   "execution_count": 48,
   "metadata": {},
   "outputs": [
    {
     "data": {
      "text/plain": [
       "0.0179627670620585"
      ]
     },
     "execution_count": 48,
     "metadata": {},
     "output_type": "execute_result"
    }
   ],
   "source": [
    "portfolio_val['Daily Return'].std()"
   ]
  },
  {
   "cell_type": "code",
   "execution_count": 50,
   "metadata": {},
   "outputs": [
    {
     "data": {
      "image/png": "[encoded data removed]",
      "text/plain": [
       "<Figure size 576x720 with 1 Axes>"
      ]
     },
     "metadata": {
      "needs_background": "light"
     },
     "output_type": "display_data"
    }
   ],
   "source": [
    "\n",
    "portfolio_val['Daily Return'].plot(kind='hist',bins=100,figsize=(8,10));"
   ]
  },
  {
   "cell_type": "code",
   "execution_count": 52,
   "metadata": {},
   "outputs": [
    {
     "data": {
      "image/png": "[encoded data removed]",
      "text/plain": [
       "<Figure size 288x360 with 1 Axes>"
      ]
     },
     "metadata": {
      "needs_background": "light"
     },
     "output_type": "display_data"
    }
   ],
   "source": [
    "portfolio_val['Daily Return'].plot(kind='kde',figsize=(4,5));"
   ]
  },
  {
   "cell_type": "code",
   "execution_count": 53,
   "metadata": {},
   "outputs": [],
   "source": [
    "cumulative_return = 100 * (portfolio_val['TOTAL POS'][-1]/portfolio_val['TOTAL POS'][0] - 1)"
   ]
  },
  {
   "cell_type": "code",
   "execution_count": 54,
   "metadata": {},
   "outputs": [
    {
     "data": {
      "text/plain": [
       "124.42569448104214"
      ]
     },
     "execution_count": 54,
     "metadata": {},
     "output_type": "execute_result"
    }
   ],
   "source": [
    "cumulative_return"
   ]
  },
  {
   "cell_type": "code",
   "execution_count": 55,
   "metadata": {},
   "outputs": [
    {
     "data": {
      "text/plain": [
       "2244256.9448104217"
      ]
     },
     "execution_count": 55,
     "metadata": {},
     "output_type": "execute_result"
    }
   ],
   "source": [
    "portfolio_val['TOTAL POS'][-1]"
   ]
  },
  {
   "cell_type": "markdown",
   "metadata": {},
   "source": [
    "### William Sharpe's Sharpe Ratio"
   ]
  },
  {
   "cell_type": "code",
   "execution_count": 56,
   "metadata": {},
   "outputs": [],
   "source": [
    "SR = portfolio_val['Daily Return'].mean() / portfolio_val['Daily Return'].std()"
   ]
  },
  {
   "cell_type": "code",
   "execution_count": 57,
   "metadata": {},
   "outputs": [
    {
     "data": {
      "text/plain": [
       "0.04576590285547989"
      ]
     },
     "execution_count": 57,
     "metadata": {},
     "output_type": "execute_result"
    }
   ],
   "source": [
    "SR"
   ]
  },
  {
   "cell_type": "code",
   "execution_count": 58,
   "metadata": {},
   "outputs": [],
   "source": [
    "ASR = (252**0.5) * SR"
   ]
  },
  {
   "cell_type": "code",
   "execution_count": 59,
   "metadata": {},
   "outputs": [
    {
     "data": {
      "text/plain": [
       "0.7265111848916437"
      ]
     },
     "execution_count": 59,
     "metadata": {},
     "output_type": "execute_result"
    }
   ],
   "source": [
    "ASR"
   ]
  },
  {
   "cell_type": "code",
   "execution_count": null,
   "metadata": {},
   "outputs": [],
   "source": []
  }
 ],
 "metadata": {
  "kernelspec": {
   "display_name": "Python 3",
   "language": "python",
   "name": "python3"
  },
  "language_info": {
   "codemirror_mode": {
    "name": "ipython",
    "version": 3
   },
   "file_extension": ".py",
   "mimetype": "text/x-python",
   "name": "python",
   "nbconvert_exporter": "python",
   "pygments_lexer": "ipython3",
   "version": "3.7.6"
  }
 },
 "nbformat": 4,
 "nbformat_minor": 4
}
