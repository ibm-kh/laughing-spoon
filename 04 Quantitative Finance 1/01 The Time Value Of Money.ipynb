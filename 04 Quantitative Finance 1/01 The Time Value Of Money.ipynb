{
 "cells": [
  {
   "cell_type": "code",
   "execution_count": 1,
   "metadata": {},
   "outputs": [],
   "source": [
    "from math import exp"
   ]
  },
  {
   "cell_type": "code",
   "execution_count": 1,
   "metadata": {},
   "outputs": [],
   "source": [
    "def discrete_future_values(x,r,n):\n",
    "    return(x*(1+r)**n)"
   ]
  },
  {
   "cell_type": "code",
   "execution_count": 3,
   "metadata": {},
   "outputs": [],
   "source": [
    "def discrete_present_values(x,r,n):\n",
    "    return(x*(1+r)**-n)"
   ]
  },
  {
   "cell_type": "code",
   "execution_count": 5,
   "metadata": {},
   "outputs": [],
   "source": [
    "def continous_future_values(x,r,t):\n",
    "    return(x*exp(r*t))"
   ]
  },
  {
   "cell_type": "code",
   "execution_count": 6,
   "metadata": {},
   "outputs": [],
   "source": [
    "def continous_present_values(x,r,t):\n",
    "    return(x*exp(-r*t))"
   ]
  },
  {
   "cell_type": "code",
   "execution_count": 7,
   "metadata": {},
   "outputs": [],
   "source": [
    "if __name__ == \"___main_\":\n",
    "    x=100\n",
    "    r=0.05\n",
    "    n=5\n",
    "    \n",
    "    print(\"future value of $100 in 5years (discrete model): \", discrete_future_values(x,r,n))\n",
    "    print(\"future value of $100 in 5years (continous model): \", continous_future_values(x,r,n))\n",
    "    print(\"future value of $100 in 5years (discrete model): \", discrete_present_values(x,r,n))\n",
    "    print(\"future value of $100 in 5years (continous model): \", continous_future_values(x,r,n))\n",
    "    "
   ]
  },
  {
   "cell_type": "code",
   "execution_count": 9,
   "metadata": {},
   "outputs": [
    {
     "name": "stdout",
     "output_type": "stream",
     "text": [
      "future value of $100 in 5years (discrete model):  127.62815625000003\n",
      "future value of $100 in 5years (continous model):  128.40254166877415\n",
      "future value of $100 in 5years (discrete model):  78.35261664684589\n",
      "future value of $100 in 5years (continous model):  128.40254166877415\n"
     ]
    }
   ],
   "source": [
    "\n",
    "    x=100\n",
    "    r=0.05\n",
    "    n=5\n",
    "    \n",
    "    print(\"future value of $100 in 5years (discrete model): \", discrete_future_values(x,r,n))\n",
    "    print(\"future value of $100 in 5years (continous model): \", continous_future_values(x,r,n))\n",
    "    print(\"future value of $100 in 5years (discrete model): \", discrete_present_values(x,r,n))\n",
    "    print(\"future value of $100 in 5years (continous model): \", continous_future_values(x,r,n))\n",
    "    "
   ]
  },
  {
   "cell_type": "code",
   "execution_count": null,
   "metadata": {},
   "outputs": [],
   "source": []
  }
 ],
 "metadata": {
  "kernelspec": {
   "display_name": "Python 3",
   "language": "python",
   "name": "python3"
  },
  "language_info": {
   "codemirror_mode": {
    "name": "ipython",
    "version": 3
   },
   "file_extension": ".py",
   "mimetype": "text/x-python",
   "name": "python",
   "nbconvert_exporter": "python",
   "pygments_lexer": "ipython3",
   "version": "3.8.5"
  }
 },
 "nbformat": 4,
 "nbformat_minor": 4
}
