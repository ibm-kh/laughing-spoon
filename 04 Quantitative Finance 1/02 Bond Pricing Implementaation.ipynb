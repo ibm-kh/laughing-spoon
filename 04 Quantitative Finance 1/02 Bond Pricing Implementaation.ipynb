{
 "cells": [
  {
   "cell_type": "code",
   "execution_count": 2,
   "metadata": {},
   "outputs": [],
   "source": [
    "from math import exp"
   ]
  },
  {
   "cell_type": "code",
   "execution_count": 3,
   "metadata": {},
   "outputs": [],
   "source": [
    "def zero_bond_price(par_value,market_rate,n):\n",
    "    return par_value/(1+market_rate)**n"
   ]
  },
  {
   "cell_type": "code",
   "execution_count": 4,
   "metadata": {},
   "outputs": [],
   "source": [
    "def bond_price(par_value,coupon,market_rate,n):\n",
    "    c = par_value*coupon\n",
    "    return c/market_rate*(1-(1/(1+market_rate)**n))+par_value/(1+market_rate)**n"
   ]
  },
  {
   "cell_type": "code",
   "execution_count": 6,
   "metadata": {},
   "outputs": [
    {
     "name": "stdout",
     "output_type": "stream",
     "text": [
      "Price of the zero-coupon bond: $888.9964\n",
      "Price of the zero-coupon bond: $1027.75\n"
     ]
    }
   ],
   "source": [
    "par_value=1000\n",
    "coupon=0.05\n",
    "n=3\n",
    "market_rate=0.04\n",
    "\n",
    "\n",
    "print(\"Price of the zero-coupon bond: $%0.f\" % zero_bond_price(par_value,market_rate,n))\n",
    "print(\"Price of the zero-coupon bond: $%0.2f\" % bond_price(par_value,coupon,market_rate,n))\n"
   ]
  },
  {
   "cell_type": "code",
   "execution_count": null,
   "metadata": {},
   "outputs": [],
   "source": []
  }
 ],
 "metadata": {
  "kernelspec": {
   "display_name": "Python 3",
   "language": "python",
   "name": "python3"
  },
  "language_info": {
   "codemirror_mode": {
    "name": "ipython",
    "version": 3
   },
   "file_extension": ".py",
   "mimetype": "text/x-python",
   "name": "python",
   "nbconvert_exporter": "python",
   "pygments_lexer": "ipython3",
   "version": "3.8.5"
  }
 },
 "nbformat": 4,
 "nbformat_minor": 4
}
