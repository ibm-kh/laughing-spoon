{
 "cells": [
  {
   "cell_type": "code",
   "execution_count": 10,
   "metadata": {},
   "outputs": [],
   "source": [
    "import numpy as np\n",
    "import pandas as pd\n",
    "from scipy.stats import norm\n",
    "import pandas_datareader.data as web\n",
    "import datetime\n",
    "import math"
   ]
  },
  {
   "cell_type": "code",
   "execution_count": 11,
   "metadata": {},
   "outputs": [],
   "source": [
    "class ValueAtRiskMonteCarlo:\n",
    "    \n",
    "    def __int__(self, S, mu, sigma, c, n, iterations):\n",
    "        self.S = S\n",
    "        self.mu = mu\n",
    "        self.sigma = sigma\n",
    "        self.c = c\n",
    "        self.n = n\n",
    "        self.iterations = iterations\n",
    "    \n",
    "    def simulation(self):\n",
    "        \n",
    "        stock_data = np.zeros([self.iterations, 1])\n",
    "        rand = np.random.normal(0, 1, [1, self.iterations])\n",
    "        \n",
    "        stock_price = self.S*np.exp(self.n*(self.mu - 0.5*self.sigma**2)+self.sigma*np.sqrt(self.n)*rand)\n",
    "        \n",
    "        stock_price = np.sort(stock_price)\n",
    "        \n",
    "        percentile = np.percentile(stock_price, (1-self.c)*100)\n",
    "        \n",
    "        return self.S-percentile"
   ]
  },
  {
   "cell_type": "code",
   "execution_count": 12,
   "metadata": {},
   "outputs": [
    {
     "ename": "TypeError",
     "evalue": "simulation() missing 1 required positional argument: 'self'",
     "output_type": "error",
     "traceback": [
      "\u001b[1;31m---------------------------------------------------------------------------\u001b[0m",
      "\u001b[1;31mTypeError\u001b[0m                                 Traceback (most recent call last)",
      "\u001b[1;32m<ipython-input-12-b4e8893a4aa9>\u001b[0m in \u001b[0;36m<module>\u001b[1;34m\u001b[0m\n\u001b[0;32m     16\u001b[0m \u001b[0mmodel\u001b[0m \u001b[1;33m=\u001b[0m \u001b[0mValueAtRiskMonteCarlo\u001b[0m \u001b[1;31m#(S, mu, sigma, c, n, iterations)\u001b[0m\u001b[1;33m\u001b[0m\u001b[1;33m\u001b[0m\u001b[0m\n\u001b[0;32m     17\u001b[0m \u001b[1;33m\u001b[0m\u001b[0m\n\u001b[1;32m---> 18\u001b[1;33m \u001b[0mprint\u001b[0m\u001b[1;33m(\u001b[0m\u001b[1;34m'Var at risk esteemated using Monte Carlo is: $%0.2f'\u001b[0m \u001b[1;33m%\u001b[0m \u001b[0mmodel\u001b[0m\u001b[1;33m.\u001b[0m\u001b[0msimulation\u001b[0m\u001b[1;33m(\u001b[0m\u001b[1;33m)\u001b[0m\u001b[1;33m)\u001b[0m\u001b[1;33m\u001b[0m\u001b[1;33m\u001b[0m\u001b[0m\n\u001b[0m",
      "\u001b[1;31mTypeError\u001b[0m: simulation() missing 1 required positional argument: 'self'"
     ]
    }
   ],
   "source": [
    "S = 1e6\n",
    "c = 0.99\n",
    "n = 1\n",
    "iterations = 100000\n",
    "\n",
    "start_date  = datetime.datetime(2014,1,1)\n",
    "end_date = datetime.datetime(2017,10,15)\n",
    "\n",
    "citi = web.DataReader('c', data_source='yahoo',start=start_date, end=end_date)\n",
    "\n",
    "citi['returns'] = citi['Adj Close'].pct_change()\n",
    "\n",
    "mu = np.mean(citi['returns'])\n",
    "sigma = np.std(citi['returns'])\n",
    "\n",
    "model = ValueAtRiskMonteCarlo #(S, mu, sigma, c, n, iterations)\n",
    "\n",
    "print('Var at risk esteemated using Monte Carlo is: $%0.2f' % model.simulation())"
   ]
  }
 ],
 "metadata": {
  "kernelspec": {
   "display_name": "Python 3",
   "language": "python",
   "name": "python3"
  }
 },
 "nbformat": 4,
 "nbformat_minor": 4
}
