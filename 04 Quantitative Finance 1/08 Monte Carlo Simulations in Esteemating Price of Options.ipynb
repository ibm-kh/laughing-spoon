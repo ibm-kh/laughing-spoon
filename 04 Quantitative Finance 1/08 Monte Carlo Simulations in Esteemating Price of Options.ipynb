{
 "cells": [
  {
   "cell_type": "code",
   "execution_count": 4,
   "metadata": {},
   "outputs": [],
   "source": [
    "import numpy as np\n",
    "import math\n",
    "import time"
   ]
  },
  {
   "cell_type": "code",
   "execution_count": 5,
   "metadata": {},
   "outputs": [],
   "source": [
    "class OptionPricing:\n",
    "    \n",
    "    def __init__(self,S0,E,T,rf,sigma,iterations):\n",
    "        \n",
    "        self.S0=S0\n",
    "        self.E=E\n",
    "        self.T=T\n",
    "        self.rf=rf\n",
    "        self.sigma=sigma\n",
    "        self.iterations=iterations\n",
    "    \n",
    "    def call_option_simulation(self):\n",
    "        \n",
    "        option_data=np.zeros([self.iterations, 2])\n",
    "        \n",
    "        rand = np.random.normal(0, 1, [1, self.iterations])\n",
    "        \n",
    "        stock_price = self.S0*np.exp(self.T*(self.rf - 0.5*self.sigma**2)+self.sigma*np.sqrt(self.T)*rand)\n",
    "        \n",
    "        option_data[:, 1] = stock_price - self.E\n",
    "        \n",
    "        average = np.sum(np.amax(option_data, axis=1))/float(self.iterations)\n",
    "        \n",
    "        return np.exp(-1.0*self.rf*self.T)*average\n",
    "    \n",
    "    def put_option_simulation(self):\n",
    "        \n",
    "        option_data = np.zeros([self.iterations, 2])\n",
    "        \n",
    "        rand=np.random.normal(0, 1,[1, self.iterations])\n",
    "        \n",
    "        \n",
    "        stock_price = self.S0*np.exp(self.T*(self.rf - 0.5*self.sigma**2) + self.sigma*np.sqrt(self.T)*rand)\n",
    "    \n",
    "        option_data[:, 1] = self.E - stock_price\n",
    "    \n",
    "        average = np.sum(np.amax(option_data, axis=1))/float(self.iterations)\n",
    "    \n",
    "        return np.exp(-1.0*self.rf*self.T)*average        "
   ]
  },
  {
   "cell_type": "code",
   "execution_count": 3,
   "metadata": {},
   "outputs": [
    {
     "name": "stdout",
     "output_type": "stream",
     "text": [
      "Call option price with Monte Carlo approach:  10.45838891311518\n",
      "Put option price with Monte Carlo approach:  5.5780760463695085\n"
     ]
    }
   ],
   "source": [
    "S0=100\n",
    "E=100\n",
    "T=1\n",
    "rf=0.05\n",
    "sigma=0.2\n",
    "iterations=10000000\n",
    "\n",
    "model = OptionPricing(S0,E,T,rf,sigma,iterations)\n",
    "print(\"Call option price with Monte Carlo approach: \",model.call_option_simulation())\n",
    "print(\"Put option price with Monte Carlo approach: \",model.put_option_simulation())"
   ]
  },
  {
   "cell_type": "code",
   "execution_count": null,
   "metadata": {},
   "outputs": [],
   "source": []
  }
 ],
 "metadata": {
  "kernelspec": {
   "display_name": "Python 3",
   "language": "python",
   "name": "python3"
  },
  "language_info": {
   "codemirror_mode": {
    "name": "ipython",
    "version": 3
   },
   "file_extension": ".py",
   "mimetype": "text/x-python",
   "name": "python",
   "nbconvert_exporter": "python",
   "pygments_lexer": "ipython3",
   "version": "3.8.5"
  }
 },
 "nbformat": 4,
 "nbformat_minor": 4
}
