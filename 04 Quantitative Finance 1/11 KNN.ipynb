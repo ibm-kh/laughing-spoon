{
 "cells": [
  {
   "cell_type": "code",
   "execution_count": 1,
   "metadata": {},
   "outputs": [
    {
     "name": "stderr",
     "output_type": "stream",
     "text": [
      "C:\\Users\\Bright\\anaconda3\\lib\\site-packages\\pandas_datareader\\compat\\__init__.py:7: FutureWarning: pandas.util.testing is deprecated. Use the functions in the public API at pandas.testing instead.\n",
      "  from pandas.util.testing import assert_frame_equal\n"
     ]
    }
   ],
   "source": [
    "import numpy as np\n",
    "import pandas as pd\n",
    "from datetime import datetime\n",
    "from sklearn.linear_model import LogisticRegression\n",
    "import sklearn\n",
    "import pandas_datareader.data as web\n",
    "from sklearn.neighbors import KNeighborsClassifier\n",
    "from sklearn.metrics import confusion_matrix"
   ]
  },
  {
   "cell_type": "code",
   "execution_count": 2,
   "metadata": {
    "scrolled": true
   },
   "outputs": [],
   "source": [
    "def create_dataset(stock_symbol,start_date ,end_date, lags=5):\n",
    "    \n",
    "    df = web.DataReader(stock_symbol, \"yahoo\", start_date, end_date)\n",
    "    \n",
    "    tslag=pd.DataFrame(index=df.index)\n",
    "    tslag['Today']=df['Adj Close']\n",
    "    tslag['Volume']=df['Volume']\n",
    "    \n",
    "    for i in range(0, lags):\n",
    "        tslag[\"Lag%s\" % str(i+1)] = df['Adj Close'].shift(i+1)\n",
    "        \n",
    "    \n",
    "    dfret = pd.DataFrame(index=tslag.index)\n",
    "    dfret['Volume'] = tslag['Volume']\n",
    "    dfret['Today'] = tslag['Today'].pct_change()*100.0\n",
    "    \n",
    "    for i in range(0, lags):\n",
    "        dfret[\"Lag%s\" % str(i+1)] = tslag['Lag%s' % str(i+1)].pct_change()*100.0\n",
    "    \n",
    "    dfret['Direction'] = np.sign(dfret['Today'])\n",
    "    \n",
    "    dfret.drop(dfret.index[:5], inplace=True)\n",
    "    \n",
    "    return dfret"
   ]
  },
  {
   "cell_type": "code",
   "execution_count": 3,
   "metadata": {},
   "outputs": [
    {
     "name": "stderr",
     "output_type": "stream",
     "text": [
      "C:\\Users\\Bright\\anaconda3\\lib\\site-packages\\pandas\\core\\series.py:679: RuntimeWarning: invalid value encountered in sign\n",
      "  result = getattr(ufunc, method)(*inputs, **kwargs)\n"
     ]
    },
    {
     "name": "stdout",
     "output_type": "stream",
     "text": [
      "Accuracy of kNN model: 0.612\n",
      "Confusion matrix: \n",
      "[[17 13]\n",
      " [27 46]]\n"
     ]
    }
   ],
   "source": [
    "data = create_dataset(\"AAPL\", datetime(2012,1,1), datetime(2017,5,31), lags=5)\n",
    "\n",
    "X=data[[\"Lag1\", \"Lag2\", \"Lag3\", \"Lag4\"]]\n",
    "Y=data[\"Direction\"]\n",
    "\n",
    "\n",
    "start_test = datetime(2017,1,1)\n",
    "\n",
    "X_train = X[X.index < start_test]\n",
    "X_test = X[X.index >= start_test]\n",
    "Y_train = Y[Y.index < start_test]\n",
    "Y_test = Y[Y.index >= start_test]\n",
    "\n",
    "model = KNeighborsClassifier(300)\n",
    "\n",
    "model.fit(X_train, Y_train)\n",
    "\n",
    "pred = model.predict(X_test)\n",
    "\n",
    "\n",
    "print(\"Accuracy of kNN model: %0.3f\" % model.score(X_test, Y_test))\n",
    "print(\"Confusion matrix: \\n%s\" % confusion_matrix(pred, Y_test))"
   ]
  }
 ],
 "metadata": {
  "kernelspec": {
   "display_name": "Python 3",
   "language": "python",
   "name": "python3"
  },
  "language_info": {
   "codemirror_mode": {
    "name": "ipython",
    "version": 3
   },
   "file_extension": ".py",
   "mimetype": "text/x-python",
   "name": "python",
   "nbconvert_exporter": "python",
   "pygments_lexer": "ipython3",
   "version": "3.8.5"
  }
 },
 "nbformat": 4,
 "nbformat_minor": 4
}
