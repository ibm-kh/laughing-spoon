{
 "cells": [
  {
   "cell_type": "code",
   "execution_count": null,
   "metadata": {
    "scrolled": true
   },
   "outputs": [],
   "source": [
    "import numpy as np\n",
    "import pandas as pd\n",
    "from scipy.stats import norm\n",
    "import pandas_datareader.data as web\n",
    "import datetime"
   ]
  },
  {
   "cell_type": "code",
   "execution_count": null,
   "metadata": {},
   "outputs": [],
   "source": [
    "def value_at_risk(position, c, mu, sigma):\n",
    "    alpha=norm.ppf(1-c)\n",
    "    var=position*(mu-sigma*alpha)\n",
    "    return var"
   ]
  },
  {
   "cell_type": "code",
   "execution_count": null,
   "metadata": {},
   "outputs": [],
   "source": [
    "def value_at_risk_long(S, c, mu, sigma, n):\n",
    "    alpha=norm.ppf(1-c)\n",
    "    var=S*(mu*n-sigma*alpha*np.sqrt(n))\n",
    "    return var"
   ]
  },
  {
   "cell_type": "code",
   "execution_count": null,
   "metadata": {},
   "outputs": [],
   "source": [
    "start_date = datetime.datetime(2014,1,1)\n",
    "end_date = datetime.datetime(2017,10,15)\n",
    "\n",
    "citi = web.DataReader('C', data_source='yahoo',start=start_date,end=end_date)\n",
    "citi['returns'] = citi['Adj Close'].pct_change()\n",
    "\n",
    "S = 1e6\n",
    "c = 0.99\n",
    "\n",
    "mu = np.mean(citi['returns'])\n",
    "sigma = np.std(citi['returns'])\n",
    "\n",
    "print('Value at risk is: $%0.2f' % value_at_risk(S, c, mu, sigma))"
   ]
  },
  {
   "cell_type": "code",
   "execution_count": null,
   "metadata": {},
   "outputs": [],
   "source": []
  }
 ],
 "metadata": {
  "kernelspec": {
   "display_name": "Python 3",
   "language": "python",
   "name": "python3"
  },
  "language_info": {
   "codemirror_mode": {
    "name": "ipython",
    "version": 3
   },
   "file_extension": ".py",
   "mimetype": "text/x-python",
   "name": "python",
   "nbconvert_exporter": "python",
   "pygments_lexer": "ipython3",
   "version": "3.8.5"
  }
 },
 "nbformat": 4,
 "nbformat_minor": 4
}
