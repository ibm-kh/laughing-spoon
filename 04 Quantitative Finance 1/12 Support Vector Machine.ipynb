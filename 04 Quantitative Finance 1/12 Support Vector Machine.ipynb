{
 "cells": [
  {
   "cell_type": "code",
   "execution_count": 7,
   "metadata": {},
   "outputs": [],
   "source": [
    "import numpy as np \n",
    "import pandas as pd\n",
    "from datetime import datetime\n",
    "from sklearn.linear_model import LogisticRegression\n",
    "import sklearn\n",
    "import pandas_datareader.data as web\n",
    "from sklearn.svm import LinearSVC\n",
    "from sklearn.metrics import confusion_matrix"
   ]
  },
  {
   "cell_type": "code",
   "execution_count": 11,
   "metadata": {},
   "outputs": [],
   "source": [
    "def create_dataset(stock_symbol, start_date, end_date, lags=5):\n",
    "    \n",
    "    df = web.DataReader(stock_symbol, \"yahoo\", start_date, end_date)\n",
    "    \n",
    "    tslag=pd.DataFrame(index=df.index)\n",
    "    tslag['Today'] = df['Adj Close']\n",
    "    tslag['Volume'] = df['Volume']\n",
    "    \n",
    "    \n",
    "    for i in range(0, lags):\n",
    "        tslag['Lag%s' % str(i+1)] = df['Adj Close'].shift(i+1)\n",
    "    dfret = pd.DataFrame(index=tslag.index)\n",
    "    dfret['Volume'] = tslag['Volume']\n",
    "    dfret['Today'] = tslag['Today'].pct_change()*100.0 \n",
    "    \n",
    "    \n",
    "    for i in range(0, lags):\n",
    "        dfret['Lag%s' % str(i+1)] = tslag['Lag%s' % str(i+1)].pct_change()*100.0\n",
    "    \n",
    "    dfret['Direction'] = np.sign(dfret['Today'])\n",
    "    dfret['Direction'] = np.drop(dfret.index[:5], inplace=True)\n",
    "    \n",
    "    return dfret"
   ]
  },
  {
   "cell_type": "code",
   "execution_count": null,
   "metadata": {},
   "outputs": [],
   "source": [
    "data = create_dataset('AAPL', datetime(2012,1,1), datetime(2017,5,31), lags=5)\n",
    "\n",
    "\n",
    "X=data[['lag1', 'lag2', 'lag3', 'lag4',]]\n",
    "Y=data['Direction']\n",
    "\n",
    "\n",
    "start_date = datetime(2017,1,1)\n",
    "\n",
    "\n",
    "X_train = X[X.index < start_test]\n",
    "X_test = X[X.index >= start_test]\n",
    "Y_train = Y[Y.index < start_test]\n",
    "Y_test = Y[Y.index >= start_test]\n",
    "\n",
    "\n",
    "model = LinearSVC()\n",
    "model = SVC(C=1000000.0, cache_size=200, class_weight=None,coef0=0.0,degrees=3,gamma=0.0001,kernel='rbf',max_iter=1,probability=False)\n",
    "model.fit(x_train, Y_train)\n",
    "\n",
    "\n",
    "print('Accuracy o SVM model: %0.3f' % model.score(X_test, Y_test))\n",
    "print('Confusion matrix: \\n%s' % confusion_matrix(pred, Y_test))"
   ]
  },
  {
   "cell_type": "code",
   "execution_count": null,
   "metadata": {},
   "outputs": [],
   "source": []
  }
 ],
 "metadata": {
  "kernelspec": {
   "display_name": "Python 3",
   "language": "python",
   "name": "python3"
  },
  "language_info": {
   "codemirror_mode": {
    "name": "ipython",
    "version": 3
   },
   "file_extension": ".py",
   "mimetype": "text/x-python",
   "name": "python",
   "nbconvert_exporter": "python",
   "pygments_lexer": "ipython3",
   "version": "3.8.5"
  }
 },
 "nbformat": 4,
 "nbformat_minor": 4
}
