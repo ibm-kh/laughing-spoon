{
 "cells": [
  {
   "cell_type": "code",
   "execution_count": 1,
   "metadata": {},
   "outputs": [],
   "source": [
    "import numpy as np \n",
    "import pandas as pd\n",
    "from scipy import log,exp,sqrt,stats"
   ]
  },
  {
   "cell_type": "code",
   "execution_count": 2,
   "metadata": {},
   "outputs": [],
   "source": [
    "def blackscholes_call(S,E,T,rf,sigma):\n",
    "    #first we have to calculate d1 and d2 parameters\n",
    "    d1=(log(S/E)+(rf+sigma/2.0)*T)/(sigma*sqrt(T))\n",
    "    d2=d1-sigma*sqrt(T)\n",
    "    \n",
    "    #If we need N(x) normal distribution function\n",
    "    return S*stats.norm.cdf(d1)-E*exp(-rf*T)*stats.norm.cdf(d2)"
   ]
  },
  {
   "cell_type": "code",
   "execution_count": 3,
   "metadata": {},
   "outputs": [],
   "source": [
    "def blackscholes_put(S,E,T,rf,sigma):\n",
    "    #first we have to calculate d1 and d2 parameters\n",
    "    d1=(log(S/E)+(rf+sigma*sigma/2.0)*T)/(sigma*sqrt(T))\n",
    "    d2=d1-sigma*sqrt(T)\n",
    "    #we need N(x) normal distribution function\n",
    "    return -S*stats.norm.cdf(-d1)+E*exp(-rf*T)*stats.norm.cdf(-d2)"
   ]
  },
  {
   "cell_type": "code",
   "execution_count": 4,
   "metadata": {},
   "outputs": [],
   "source": [
    "S0=100       #underlaying stock price at t=0\n",
    "E=100        #strike price\n",
    "T=1          #expiry\n",
    "rf=0.05      #risk-free rate\n",
    "sigma=0.2    #volatility of the underlaying stock"
   ]
  },
  {
   "cell_type": "code",
   "execution_count": 5,
   "metadata": {},
   "outputs": [
    {
     "name": "stdout",
     "output_type": "stream",
     "text": [
      "call Option Price according to Black Scholes Model: 9.910288442390453\n",
      "Put Option Price according to Black Scholes Model: 5.573526022256971\n"
     ]
    },
    {
     "name": "stderr",
     "output_type": "stream",
     "text": [
      "<ipython-input-2-2b210095cb22>:3: DeprecationWarning: scipy.log is deprecated and will be removed in SciPy 2.0.0, use numpy.lib.scimath.log instead\n",
      "  d1=(log(S/E)+(rf+sigma/2.0)*T)/(sigma*sqrt(T))\n",
      "<ipython-input-2-2b210095cb22>:3: DeprecationWarning: scipy.sqrt is deprecated and will be removed in SciPy 2.0.0, use numpy.lib.scimath.sqrt instead\n",
      "  d1=(log(S/E)+(rf+sigma/2.0)*T)/(sigma*sqrt(T))\n",
      "<ipython-input-2-2b210095cb22>:4: DeprecationWarning: scipy.sqrt is deprecated and will be removed in SciPy 2.0.0, use numpy.lib.scimath.sqrt instead\n",
      "  d2=d1-sigma*sqrt(T)\n",
      "<ipython-input-2-2b210095cb22>:7: DeprecationWarning: scipy.exp is deprecated and will be removed in SciPy 2.0.0, use numpy.exp instead\n",
      "  return S*stats.norm.cdf(d1)-E*exp(-rf*T)*stats.norm.cdf(d2)\n",
      "<ipython-input-3-f850f39da14a>:6: DeprecationWarning: scipy.exp is deprecated and will be removed in SciPy 2.0.0, use numpy.exp instead\n",
      "  return -S*stats.norm.cdf(-d1)+E*exp(-rf*T)*stats.norm.cdf(-d2)\n"
     ]
    }
   ],
   "source": [
    "print('call Option Price according to Black Scholes Model:', blackscholes_call(S0,E,T,rf,sigma))\n",
    "print('Put Option Price according to Black Scholes Model:', blackscholes_put(S0,E,T,rf,sigma))"
   ]
  },
  {
   "cell_type": "code",
   "execution_count": null,
   "metadata": {},
   "outputs": [],
   "source": []
  }
 ],
 "metadata": {
  "kernelspec": {
   "display_name": "Python 3",
   "language": "python",
   "name": "python3"
  },
  "language_info": {
   "codemirror_mode": {
    "name": "ipython",
    "version": 3
   },
   "file_extension": ".py",
   "mimetype": "text/x-python",
   "name": "python",
   "nbconvert_exporter": "python",
   "pygments_lexer": "ipython3",
   "version": "3.8.5"
  }
 },
 "nbformat": 4,
 "nbformat_minor": 4
}
